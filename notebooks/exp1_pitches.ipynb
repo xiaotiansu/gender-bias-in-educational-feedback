{
 "cells": [
  {
   "cell_type": "code",
   "execution_count": 17,
   "metadata": {},
   "outputs": [],
   "source": [
    "import pandas as pd\n",
    "import seaborn as sns\n",
    "import matplotlib.pyplot as plt\n",
    "sns.set_theme(style=\"whitegrid\")\n",
    "import sys\n",
    "sys.path.append('../scripts/') \n",
    "from utils import *"
   ]
  },
  {
   "cell_type": "code",
   "execution_count": 2,
   "metadata": {},
   "outputs": [
    {
     "data": {
      "text/html": [
       "<div>\n",
       "<style scoped>\n",
       "    .dataframe tbody tr th:only-of-type {\n",
       "        vertical-align: middle;\n",
       "    }\n",
       "\n",
       "    .dataframe tbody tr th {\n",
       "        vertical-align: top;\n",
       "    }\n",
       "\n",
       "    .dataframe thead th {\n",
       "        text-align: right;\n",
       "    }\n",
       "</style>\n",
       "<table border=\"1\" class=\"dataframe\">\n",
       "  <thead>\n",
       "    <tr style=\"text-align: right;\">\n",
       "      <th></th>\n",
       "      <th>Text</th>\n",
       "      <th>ID</th>\n",
       "      <th>Gruppe</th>\n",
       "    </tr>\n",
       "  </thead>\n",
       "  <tbody>\n",
       "    <tr>\n",
       "      <th>0</th>\n",
       "      <td>Sehr geehrte Investoren, ich heiße Max Musterm...</td>\n",
       "      <td>1</td>\n",
       "      <td>CG</td>\n",
       "    </tr>\n",
       "    <tr>\n",
       "      <th>1</th>\n",
       "      <td>Sehr geehrte Investor*innen, wie viele von ihn...</td>\n",
       "      <td>2</td>\n",
       "      <td>CG</td>\n",
       "    </tr>\n",
       "    <tr>\n",
       "      <th>2</th>\n",
       "      <td>Erfolgreiches Lernen hängt nicht nur von gutem...</td>\n",
       "      <td>3</td>\n",
       "      <td>CG</td>\n",
       "    </tr>\n",
       "    <tr>\n",
       "      <th>3</th>\n",
       "      <td>Wenn Freunde und Bekannte aus dem Arbeitsumfel...</td>\n",
       "      <td>4</td>\n",
       "      <td>CG</td>\n",
       "    </tr>\n",
       "    <tr>\n",
       "      <th>4</th>\n",
       "      <td>Hallo, ich bin Lisa und die Gründerin des Star...</td>\n",
       "      <td>5</td>\n",
       "      <td>CG</td>\n",
       "    </tr>\n",
       "    <tr>\n",
       "      <th>...</th>\n",
       "      <td>...</td>\n",
       "      <td>...</td>\n",
       "      <td>...</td>\n",
       "    </tr>\n",
       "    <tr>\n",
       "      <th>66</th>\n",
       "      <td>Guten Tag, ich bin heute hier, um Ihnen meine ...</td>\n",
       "      <td>67</td>\n",
       "      <td>TG2</td>\n",
       "    </tr>\n",
       "    <tr>\n",
       "      <th>67</th>\n",
       "      <td>Bearbeiter: Constantin Heinecker (35547860) Da...</td>\n",
       "      <td>68</td>\n",
       "      <td>TG2</td>\n",
       "    </tr>\n",
       "    <tr>\n",
       "      <th>68</th>\n",
       "      <td>Unser Unternehmen ist ein Weiterbildung Start ...</td>\n",
       "      <td>69</td>\n",
       "      <td>TG2</td>\n",
       "    </tr>\n",
       "    <tr>\n",
       "      <th>69</th>\n",
       "      <td>Wir befinden uns in der Planung für eine App n...</td>\n",
       "      <td>70</td>\n",
       "      <td>TG2</td>\n",
       "    </tr>\n",
       "    <tr>\n",
       "      <th>70</th>\n",
       "      <td>Normalerweise müssen SchülerInnen und StudentI...</td>\n",
       "      <td>71</td>\n",
       "      <td>TG2</td>\n",
       "    </tr>\n",
       "  </tbody>\n",
       "</table>\n",
       "<p>71 rows × 3 columns</p>\n",
       "</div>"
      ],
      "text/plain": [
       "                                                 Text  ID Gruppe\n",
       "0   Sehr geehrte Investoren, ich heiße Max Musterm...   1     CG\n",
       "1   Sehr geehrte Investor*innen, wie viele von ihn...   2     CG\n",
       "2   Erfolgreiches Lernen hängt nicht nur von gutem...   3     CG\n",
       "3   Wenn Freunde und Bekannte aus dem Arbeitsumfel...   4     CG\n",
       "4   Hallo, ich bin Lisa und die Gründerin des Star...   5     CG\n",
       "..                                                ...  ..    ...\n",
       "66  Guten Tag, ich bin heute hier, um Ihnen meine ...  67    TG2\n",
       "67  Bearbeiter: Constantin Heinecker (35547860) Da...  68    TG2\n",
       "68  Unser Unternehmen ist ein Weiterbildung Start ...  69    TG2\n",
       "69  Wir befinden uns in der Planung für eine App n...  70    TG2\n",
       "70  Normalerweise müssen SchülerInnen und StudentI...  71    TG2\n",
       "\n",
       "[71 rows x 3 columns]"
      ]
     },
     "execution_count": 2,
     "metadata": {},
     "output_type": "execute_result"
    }
   ],
   "source": [
    "pitches = pd.read_excel('../data/arg_write/2022_pitches.xlsx')\n",
    "pitches"
   ]
  },
  {
   "cell_type": "code",
   "execution_count": 16,
   "metadata": {},
   "outputs": [
    {
     "data": {
      "text/plain": [
       "Gruppe\n",
       "CG     21\n",
       "TG1    25\n",
       "TG2    25\n",
       "dtype: int64"
      ]
     },
     "execution_count": 16,
     "metadata": {},
     "output_type": "execute_result"
    }
   ],
   "source": [
    "pitches.groupby('Gruppe').size()"
   ]
  },
  {
   "cell_type": "code",
   "execution_count": 8,
   "metadata": {},
   "outputs": [
    {
     "name": "stdout",
     "output_type": "stream",
     "text": [
      "Text_clean\n"
     ]
    },
    {
     "name": "stderr",
     "output_type": "stream",
     "text": [
      "/Users/su/Desktop/biasedu/notebooks/../scripts/utils.py:37: GuessedAtParserWarning: No parser was explicitly specified, so I'm using the best available HTML parser for this system (\"lxml\"). This usually isn't a problem, but if you run this code on another system, or in a different virtual environment, it may use a different parser and behave differently.\n",
      "\n",
      "The code that caused this warning is on line 37 of the file /Users/su/Desktop/biasedu/notebooks/../scripts/utils.py. To get rid of this warning, pass the additional argument 'features=\"lxml\"' to the BeautifulSoup constructor.\n",
      "\n",
      "  sentences = BeautifulSoup(text).get_text(\" \")\n"
     ]
    },
    {
     "data": {
      "text/html": [
       "<div>\n",
       "<style scoped>\n",
       "    .dataframe tbody tr th:only-of-type {\n",
       "        vertical-align: middle;\n",
       "    }\n",
       "\n",
       "    .dataframe tbody tr th {\n",
       "        vertical-align: top;\n",
       "    }\n",
       "\n",
       "    .dataframe thead th {\n",
       "        text-align: right;\n",
       "    }\n",
       "</style>\n",
       "<table border=\"1\" class=\"dataframe\">\n",
       "  <thead>\n",
       "    <tr style=\"text-align: right;\">\n",
       "      <th></th>\n",
       "      <th>Text</th>\n",
       "      <th>ID</th>\n",
       "      <th>Gruppe</th>\n",
       "      <th>Text_clean</th>\n",
       "      <th>word_gender</th>\n",
       "      <th>word_dict</th>\n",
       "      <th>total_words</th>\n",
       "      <th>total_unique_words</th>\n",
       "      <th>total_m_cooc</th>\n",
       "      <th>total_f_cooc</th>\n",
       "      <th>bias_records</th>\n",
       "      <th>bias_score</th>\n",
       "    </tr>\n",
       "  </thead>\n",
       "  <tbody>\n",
       "    <tr>\n",
       "      <th>0</th>\n",
       "      <td>Sehr geehrte Investoren, ich heiße Max Musterm...</td>\n",
       "      <td>1</td>\n",
       "      <td>CG</td>\n",
       "      <td>Sehr geehrte Investoren heiße Max Mustermann G...</td>\n",
       "      <td>{'Sehr': {'m': 1e-06, 'f': 1e-06, 'female': []...</td>\n",
       "      <td>{'Sehr': 1, 'geehrte': 1, 'Investoren': 1, 'he...</td>\n",
       "      <td>221</td>\n",
       "      <td>180</td>\n",
       "      <td>0.000180</td>\n",
       "      <td>19.000180</td>\n",
       "      <td>{'Sehr': {'m': 1e-06, 'f': 1e-06, 'female': []...</td>\n",
       "      <td>10.1816</td>\n",
       "    </tr>\n",
       "    <tr>\n",
       "      <th>1</th>\n",
       "      <td>Sehr geehrte Investor*innen, wie viele von ihn...</td>\n",
       "      <td>2</td>\n",
       "      <td>CG</td>\n",
       "      <td>Sehr geehrte Investorinnen viele wahrscheinlic...</td>\n",
       "      <td>{'Sehr': {'m': 1e-06, 'f': 1e-06, 'female': []...</td>\n",
       "      <td>{'Sehr': 1, 'geehrte': 1, 'Investorinnen': 1, ...</td>\n",
       "      <td>155</td>\n",
       "      <td>129</td>\n",
       "      <td>0.000129</td>\n",
       "      <td>19.000129</td>\n",
       "      <td>{'Sehr': {'m': 1e-06, 'f': 1e-06, 'female': []...</td>\n",
       "      <td>9.8652</td>\n",
       "    </tr>\n",
       "    <tr>\n",
       "      <th>2</th>\n",
       "      <td>Erfolgreiches Lernen hängt nicht nur von gutem...</td>\n",
       "      <td>3</td>\n",
       "      <td>CG</td>\n",
       "      <td>Erfolgreiches Lernen hängt gutem Unterricht gu...</td>\n",
       "      <td>{'Erfolgreiches': {'m': 1e-06, 'f': 1e-06, 'fe...</td>\n",
       "      <td>{'Erfolgreiches': 1, 'Lernen': 5, 'hängt': 1, ...</td>\n",
       "      <td>187</td>\n",
       "      <td>149</td>\n",
       "      <td>0.000149</td>\n",
       "      <td>151.000149</td>\n",
       "      <td>{'Erfolgreiches': {'m': 1e-06, 'f': 1e-06, 'fe...</td>\n",
       "      <td>7.0630</td>\n",
       "    </tr>\n",
       "    <tr>\n",
       "      <th>3</th>\n",
       "      <td>Wenn Freunde und Bekannte aus dem Arbeitsumfel...</td>\n",
       "      <td>4</td>\n",
       "      <td>CG</td>\n",
       "      <td>Wenn Freunde Bekannte Arbeitsumfeld zugehen fr...</td>\n",
       "      <td>{'Wenn': {'m': 1e-06, 'f': 1e-06, 'female': []...</td>\n",
       "      <td>{'Wenn': 1, 'Freunde': 1, 'Bekannte': 1, 'Arbe...</td>\n",
       "      <td>126</td>\n",
       "      <td>103</td>\n",
       "      <td>0.000103</td>\n",
       "      <td>95.000103</td>\n",
       "      <td>{'Wenn': {'m': 1e-06, 'f': 1e-06, 'female': []...</td>\n",
       "      <td>3.6828</td>\n",
       "    </tr>\n",
       "    <tr>\n",
       "      <th>4</th>\n",
       "      <td>Hallo, ich bin Lisa und die Gründerin des Star...</td>\n",
       "      <td>5</td>\n",
       "      <td>CG</td>\n",
       "      <td>Hallo Lisa Gründerin Start Ups Smart Ed Viele ...</td>\n",
       "      <td>{'Hallo': {'m': 1e-06, 'f': 1e-06, 'female': [...</td>\n",
       "      <td>{'Hallo': 1, 'Lisa': 1, 'Gründerin': 2, 'Start...</td>\n",
       "      <td>181</td>\n",
       "      <td>141</td>\n",
       "      <td>0.000141</td>\n",
       "      <td>94.000141</td>\n",
       "      <td>{'Hallo': {'m': 1e-06, 'f': 1e-06, 'female': [...</td>\n",
       "      <td>7.9691</td>\n",
       "    </tr>\n",
       "    <tr>\n",
       "      <th>...</th>\n",
       "      <td>...</td>\n",
       "      <td>...</td>\n",
       "      <td>...</td>\n",
       "      <td>...</td>\n",
       "      <td>...</td>\n",
       "      <td>...</td>\n",
       "      <td>...</td>\n",
       "      <td>...</td>\n",
       "      <td>...</td>\n",
       "      <td>...</td>\n",
       "      <td>...</td>\n",
       "      <td>...</td>\n",
       "    </tr>\n",
       "    <tr>\n",
       "      <th>66</th>\n",
       "      <td>Guten Tag, ich bin heute hier, um Ihnen meine ...</td>\n",
       "      <td>67</td>\n",
       "      <td>TG2</td>\n",
       "      <td>Guten Tag heute Ihnen neuste Erfindung vorzust...</td>\n",
       "      <td>{'Guten': {'m': 1e-06, 'f': 1e-06, 'female': [...</td>\n",
       "      <td>{'Guten': 1, 'Tag': 1, 'heute': 1, 'Ihnen': 2,...</td>\n",
       "      <td>226</td>\n",
       "      <td>177</td>\n",
       "      <td>0.000177</td>\n",
       "      <td>38.000177</td>\n",
       "      <td>{'Guten': {'m': 1e-06, 'f': 1e-06, 'female': [...</td>\n",
       "      <td>9.5333</td>\n",
       "    </tr>\n",
       "    <tr>\n",
       "      <th>67</th>\n",
       "      <td>Bearbeiter: Constantin Heinecker (35547860) Da...</td>\n",
       "      <td>68</td>\n",
       "      <td>TG2</td>\n",
       "      <td>Bearbeiter Constantin Heinecker Das Ziel Smart...</td>\n",
       "      <td>{'Bearbeiter': {'m': 1e-06, 'f': 1e-06, 'femal...</td>\n",
       "      <td>{'Bearbeiter': 1, 'Constantin': 1, 'Heinecker'...</td>\n",
       "      <td>223</td>\n",
       "      <td>178</td>\n",
       "      <td>38.000178</td>\n",
       "      <td>0.000178</td>\n",
       "      <td>{'Bearbeiter': {'m': 1e-06, 'f': 1e-06, 'femal...</td>\n",
       "      <td>-9.3217</td>\n",
       "    </tr>\n",
       "    <tr>\n",
       "      <th>68</th>\n",
       "      <td>Unser Unternehmen ist ein Weiterbildung Start ...</td>\n",
       "      <td>69</td>\n",
       "      <td>TG2</td>\n",
       "      <td>Unser Unternehmen Weiterbildung Start Up trägt...</td>\n",
       "      <td>{'Unser': {'m': 1e-06, 'f': 1e-06, 'female': [...</td>\n",
       "      <td>{'Unser': 1, 'Unternehmen': 2, 'Weiterbildung'...</td>\n",
       "      <td>218</td>\n",
       "      <td>185</td>\n",
       "      <td>0.000185</td>\n",
       "      <td>19.000185</td>\n",
       "      <td>{'Unser': {'m': 1e-06, 'f': 1e-06, 'female': [...</td>\n",
       "      <td>10.1211</td>\n",
       "    </tr>\n",
       "    <tr>\n",
       "      <th>69</th>\n",
       "      <td>Wir befinden uns in der Planung für eine App n...</td>\n",
       "      <td>70</td>\n",
       "      <td>TG2</td>\n",
       "      <td>Wir befinden Planung App namens Smart Ed Weite...</td>\n",
       "      <td>{'Wir': {'m': 1e-06, 'f': 1e-06, 'female': [],...</td>\n",
       "      <td>{'Wir': 1, 'befinden': 1, 'Planung': 1, 'App':...</td>\n",
       "      <td>186</td>\n",
       "      <td>156</td>\n",
       "      <td>0.000156</td>\n",
       "      <td>0.000156</td>\n",
       "      <td>{'Wir': {'m': 1e-06, 'f': 1e-06, 'female': [],...</td>\n",
       "      <td>0.0000</td>\n",
       "    </tr>\n",
       "    <tr>\n",
       "      <th>70</th>\n",
       "      <td>Normalerweise müssen SchülerInnen und StudentI...</td>\n",
       "      <td>71</td>\n",
       "      <td>TG2</td>\n",
       "      <td>Normalerweise müssen SchülerInnen StudentInnen...</td>\n",
       "      <td>{'Normalerweise': {'m': 1e-06, 'f': 1e-06, 'fe...</td>\n",
       "      <td>{'Normalerweise': 1, 'müssen': 1, 'SchülerInne...</td>\n",
       "      <td>158</td>\n",
       "      <td>133</td>\n",
       "      <td>0.000133</td>\n",
       "      <td>114.000133</td>\n",
       "      <td>{'Normalerweise': {'m': 1e-06, 'f': 1e-06, 'fe...</td>\n",
       "      <td>5.6011</td>\n",
       "    </tr>\n",
       "  </tbody>\n",
       "</table>\n",
       "<p>71 rows × 12 columns</p>\n",
       "</div>"
      ],
      "text/plain": [
       "                                                 Text  ID Gruppe  \\\n",
       "0   Sehr geehrte Investoren, ich heiße Max Musterm...   1     CG   \n",
       "1   Sehr geehrte Investor*innen, wie viele von ihn...   2     CG   \n",
       "2   Erfolgreiches Lernen hängt nicht nur von gutem...   3     CG   \n",
       "3   Wenn Freunde und Bekannte aus dem Arbeitsumfel...   4     CG   \n",
       "4   Hallo, ich bin Lisa und die Gründerin des Star...   5     CG   \n",
       "..                                                ...  ..    ...   \n",
       "66  Guten Tag, ich bin heute hier, um Ihnen meine ...  67    TG2   \n",
       "67  Bearbeiter: Constantin Heinecker (35547860) Da...  68    TG2   \n",
       "68  Unser Unternehmen ist ein Weiterbildung Start ...  69    TG2   \n",
       "69  Wir befinden uns in der Planung für eine App n...  70    TG2   \n",
       "70  Normalerweise müssen SchülerInnen und StudentI...  71    TG2   \n",
       "\n",
       "                                           Text_clean  \\\n",
       "0   Sehr geehrte Investoren heiße Max Mustermann G...   \n",
       "1   Sehr geehrte Investorinnen viele wahrscheinlic...   \n",
       "2   Erfolgreiches Lernen hängt gutem Unterricht gu...   \n",
       "3   Wenn Freunde Bekannte Arbeitsumfeld zugehen fr...   \n",
       "4   Hallo Lisa Gründerin Start Ups Smart Ed Viele ...   \n",
       "..                                                ...   \n",
       "66  Guten Tag heute Ihnen neuste Erfindung vorzust...   \n",
       "67  Bearbeiter Constantin Heinecker Das Ziel Smart...   \n",
       "68  Unser Unternehmen Weiterbildung Start Up trägt...   \n",
       "69  Wir befinden Planung App namens Smart Ed Weite...   \n",
       "70  Normalerweise müssen SchülerInnen StudentInnen...   \n",
       "\n",
       "                                          word_gender  \\\n",
       "0   {'Sehr': {'m': 1e-06, 'f': 1e-06, 'female': []...   \n",
       "1   {'Sehr': {'m': 1e-06, 'f': 1e-06, 'female': []...   \n",
       "2   {'Erfolgreiches': {'m': 1e-06, 'f': 1e-06, 'fe...   \n",
       "3   {'Wenn': {'m': 1e-06, 'f': 1e-06, 'female': []...   \n",
       "4   {'Hallo': {'m': 1e-06, 'f': 1e-06, 'female': [...   \n",
       "..                                                ...   \n",
       "66  {'Guten': {'m': 1e-06, 'f': 1e-06, 'female': [...   \n",
       "67  {'Bearbeiter': {'m': 1e-06, 'f': 1e-06, 'femal...   \n",
       "68  {'Unser': {'m': 1e-06, 'f': 1e-06, 'female': [...   \n",
       "69  {'Wir': {'m': 1e-06, 'f': 1e-06, 'female': [],...   \n",
       "70  {'Normalerweise': {'m': 1e-06, 'f': 1e-06, 'fe...   \n",
       "\n",
       "                                            word_dict  total_words  \\\n",
       "0   {'Sehr': 1, 'geehrte': 1, 'Investoren': 1, 'he...          221   \n",
       "1   {'Sehr': 1, 'geehrte': 1, 'Investorinnen': 1, ...          155   \n",
       "2   {'Erfolgreiches': 1, 'Lernen': 5, 'hängt': 1, ...          187   \n",
       "3   {'Wenn': 1, 'Freunde': 1, 'Bekannte': 1, 'Arbe...          126   \n",
       "4   {'Hallo': 1, 'Lisa': 1, 'Gründerin': 2, 'Start...          181   \n",
       "..                                                ...          ...   \n",
       "66  {'Guten': 1, 'Tag': 1, 'heute': 1, 'Ihnen': 2,...          226   \n",
       "67  {'Bearbeiter': 1, 'Constantin': 1, 'Heinecker'...          223   \n",
       "68  {'Unser': 1, 'Unternehmen': 2, 'Weiterbildung'...          218   \n",
       "69  {'Wir': 1, 'befinden': 1, 'Planung': 1, 'App':...          186   \n",
       "70  {'Normalerweise': 1, 'müssen': 1, 'SchülerInne...          158   \n",
       "\n",
       "    total_unique_words  total_m_cooc  total_f_cooc  \\\n",
       "0                  180      0.000180     19.000180   \n",
       "1                  129      0.000129     19.000129   \n",
       "2                  149      0.000149    151.000149   \n",
       "3                  103      0.000103     95.000103   \n",
       "4                  141      0.000141     94.000141   \n",
       "..                 ...           ...           ...   \n",
       "66                 177      0.000177     38.000177   \n",
       "67                 178     38.000178      0.000178   \n",
       "68                 185      0.000185     19.000185   \n",
       "69                 156      0.000156      0.000156   \n",
       "70                 133      0.000133    114.000133   \n",
       "\n",
       "                                         bias_records  bias_score  \n",
       "0   {'Sehr': {'m': 1e-06, 'f': 1e-06, 'female': []...     10.1816  \n",
       "1   {'Sehr': {'m': 1e-06, 'f': 1e-06, 'female': []...      9.8652  \n",
       "2   {'Erfolgreiches': {'m': 1e-06, 'f': 1e-06, 'fe...      7.0630  \n",
       "3   {'Wenn': {'m': 1e-06, 'f': 1e-06, 'female': []...      3.6828  \n",
       "4   {'Hallo': {'m': 1e-06, 'f': 1e-06, 'female': [...      7.9691  \n",
       "..                                                ...         ...  \n",
       "66  {'Guten': {'m': 1e-06, 'f': 1e-06, 'female': [...      9.5333  \n",
       "67  {'Bearbeiter': {'m': 1e-06, 'f': 1e-06, 'femal...     -9.3217  \n",
       "68  {'Unser': {'m': 1e-06, 'f': 1e-06, 'female': [...     10.1211  \n",
       "69  {'Wir': {'m': 1e-06, 'f': 1e-06, 'female': [],...      0.0000  \n",
       "70  {'Normalerweise': {'m': 1e-06, 'f': 1e-06, 'fe...      5.6011  \n",
       "\n",
       "[71 rows x 12 columns]"
      ]
     },
     "execution_count": 8,
     "metadata": {},
     "output_type": "execute_result"
    }
   ],
   "source": [
    "pitches_bias = clean_calc_bias(pitches.copy(), 'Text')\n",
    "pitches_bias"
   ]
  },
  {
   "cell_type": "code",
   "execution_count": 9,
   "metadata": {},
   "outputs": [],
   "source": [
    "pitches_bias.to_csv('../data/arg_write/2022_pitches_bias.csv', index=False)"
   ]
  },
  {
   "cell_type": "code",
   "execution_count": 1,
   "metadata": {},
   "outputs": [
    {
     "data": {
      "text/plain": [
       "(71, 12)"
      ]
     },
     "execution_count": 1,
     "metadata": {},
     "output_type": "execute_result"
    }
   ],
   "source": [
    "import pandas as pd\n",
    "pitches_bias = pd.read_csv('../data/arg_write/2022_pitches_bias.csv')\n",
    "pitches_bias.shape"
   ]
  },
  {
   "cell_type": "code",
   "execution_count": 3,
   "metadata": {},
   "outputs": [
    {
     "data": {
      "text/plain": [
       "Text                  0\n",
       "ID                    0\n",
       "Gruppe                0\n",
       "Text_clean            0\n",
       "word_gender           0\n",
       "word_dict             0\n",
       "total_words           0\n",
       "total_unique_words    0\n",
       "total_m_cooc          0\n",
       "total_f_cooc          0\n",
       "bias_records          0\n",
       "bias_score            0\n",
       "dtype: int64"
      ]
     },
     "execution_count": 3,
     "metadata": {},
     "output_type": "execute_result"
    }
   ],
   "source": [
    "pitches_bias.isna().sum()"
   ]
  },
  {
   "cell_type": "code",
   "execution_count": 4,
   "metadata": {},
   "outputs": [],
   "source": [
    "pitches_bias.Text_clean.to_csv(\"../data/arg_write/pitches.txt\", index=False, header=False)"
   ]
  },
  {
   "cell_type": "code",
   "execution_count": 5,
   "metadata": {},
   "outputs": [
    {
     "name": "stdout",
     "output_type": "stream",
     "text": [
      "100%|█████████████████████████████████████| 7557/7557 [00:02<00:00, 2835.55it/s]\n",
      "0it [00:00, ?it/s]\n",
      "7557it [00:01, 4748.03it/s]\n",
      "Done.\n"
     ]
    }
   ],
   "source": [
    "!python weat_de_cooc.py \\\n",
    "    --data \"/Users/su/Desktop/biasedu/data/arg_write/pitches.txt\" \\\n",
    "    --output \"/Users/su/Desktop/biasedu/output/weat\" \\\n",
    "    --processing_cores 7 \\\n",
    "    --tests 1 2 3 4 5 6 7 8 9 10"
   ]
  },
  {
   "cell_type": "code",
   "execution_count": 11,
   "metadata": {},
   "outputs": [
    {
     "name": "stdout",
     "output_type": "stream",
     "text": [
      "CG\n",
      "Shapiro-Wilk Test: Statistics=0.925, p=0.107\n",
      "Sample looks Gaussian (fail to reject H0)\n",
      "D'Agostino's K^2 Test: Statistics=1.522, p=0.467\n",
      "Sample looks Gaussian (fail to reject H0)\n",
      "Kolmogorov-Smirnov Test: Statistics=0.138, p=0.769\n",
      "Sample looks Gaussian (fail to reject H0)\n",
      "TG1\n",
      "Shapiro-Wilk Test: Statistics=0.896, p=0.015\n",
      "Sample does not look Gaussian (reject H0)\n",
      "D'Agostino's K^2 Test: Statistics=2.734, p=0.255\n",
      "Sample looks Gaussian (fail to reject H0)\n",
      "Kolmogorov-Smirnov Test: Statistics=0.183, p=0.329\n",
      "Sample looks Gaussian (fail to reject H0)\n",
      "TG2\n",
      "Shapiro-Wilk Test: Statistics=0.887, p=0.010\n",
      "Sample does not look Gaussian (reject H0)\n",
      "D'Agostino's K^2 Test: Statistics=2.150, p=0.341\n",
      "Sample looks Gaussian (fail to reject H0)\n",
      "Kolmogorov-Smirnov Test: Statistics=0.144, p=0.629\n",
      "Sample looks Gaussian (fail to reject H0)\n"
     ]
    }
   ],
   "source": [
    "for g in pitches_bias.Gruppe.unique():\n",
    "    print(g)\n",
    "    check_gaussianity(pitches_bias[pitches_bias.Gruppe==g].bias_score)"
   ]
  },
  {
   "cell_type": "code",
   "execution_count": 13,
   "metadata": {},
   "outputs": [
    {
     "name": "stdout",
     "output_type": "stream",
     "text": [
      "Mann-Whitney U statistic: 255.50, p-value is 0.8858937099\n",
      "Fail to reject the null hypothesis. There is no significant difference in the distributions.\n"
     ]
    }
   ],
   "source": [
    "mannwu(pitches_bias[pitches_bias.Gruppe=='CG'].bias_score, pitches_bias[pitches_bias.Gruppe=='TG1'].bias_score)"
   ]
  },
  {
   "cell_type": "code",
   "execution_count": 14,
   "metadata": {},
   "outputs": [
    {
     "name": "stdout",
     "output_type": "stream",
     "text": [
      "Mann-Whitney U statistic: 226.50, p-value is 0.4331916043\n",
      "Fail to reject the null hypothesis. There is no significant difference in the distributions.\n"
     ]
    }
   ],
   "source": [
    "mannwu(pitches_bias[pitches_bias.Gruppe=='CG'].bias_score, pitches_bias[pitches_bias.Gruppe=='TG2'].bias_score)"
   ]
  },
  {
   "cell_type": "code",
   "execution_count": 15,
   "metadata": {},
   "outputs": [
    {
     "name": "stdout",
     "output_type": "stream",
     "text": [
      "Mann-Whitney U statistic: 272.50, p-value is 0.4430473694\n",
      "Fail to reject the null hypothesis. There is no significant difference in the distributions.\n"
     ]
    }
   ],
   "source": [
    "mannwu(pitches_bias[pitches_bias.Gruppe=='TG1'].bias_score, pitches_bias[pitches_bias.Gruppe=='TG2'].bias_score)"
   ]
  },
  {
   "cell_type": "code",
   "execution_count": 18,
   "metadata": {},
   "outputs": [
    {
     "data": {
      "text/plain": [
       "Text(0.5, 0, 'Group')"
      ]
     },
     "execution_count": 18,
     "metadata": {},
     "output_type": "execute_result"
    },
    {
     "data": {
      "image/png": "[encoded data removed]",
      "text/plain": [
       "<Figure size 640x480 with 1 Axes>"
      ]
     },
     "metadata": {},
     "output_type": "display_data"
    }
   ],
   "source": [
    "sns.boxplot(data=pitches_bias, x=\"Gruppe\", y=\"bias_score\")\n",
    "# plt.legend(title='Content', loc='lower right')\n",
    "# set y-axis label\n",
    "# set title\n",
    "plt.title('Bias PMI Scores for Persuasive Student Essays', fontsize=15)\n",
    "plt.ylabel('Bias PMI score', fontsize=13)\n",
    "plt.xlabel('Group', fontsize=13)"
   ]
  },
  {
   "cell_type": "code",
   "execution_count": 20,
   "metadata": {},
   "outputs": [
    {
     "data": {
      "text/plain": [
       "Text(0.5, 0, 'Group')"
      ]
     },
     "execution_count": 20,
     "metadata": {},
     "output_type": "execute_result"
    },
    {
     "data": {
      "image/png": "[encoded data removed]",
      "text/plain": [
       "<Figure size 640x480 with 1 Axes>"
      ]
     },
     "metadata": {},
     "output_type": "display_data"
    }
   ],
   "source": [
    "sns.pointplot(data=pitches_bias, x=\"Gruppe\", y=\"bias_score\")\n",
    "# plt.legend(title='Content', loc='lower right')\n",
    "# set y-axis label\n",
    "# set title\n",
    "plt.title('Bias PMI Scores for Persuasive Student Essays', fontsize=15)\n",
    "plt.ylabel('Bias PMI score', fontsize=13)\n",
    "plt.xlabel('Group', fontsize=13)"
   ]
  },
  {
   "cell_type": "code",
   "execution_count": 25,
   "metadata": {},
   "outputs": [
    {
     "data": {
      "text/plain": [
       "Text(0.5, 0, 'Group')"
      ]
     },
     "execution_count": 25,
     "metadata": {},
     "output_type": "execute_result"
    },
    {
     "data": {
      "image/png": "[encoded data removed]",
      "text/plain": [
       "<Figure size 640x480 with 1 Axes>"
      ]
     },
     "metadata": {},
     "output_type": "display_data"
    }
   ],
   "source": [
    "sns.barplot(data=pitches_bias, x=\"Gruppe\", y=\"bias_score\")\n",
    "plt.title('Bias PMI Scores for Persuasive Student Essays', fontsize=15)\n",
    "plt.ylabel('Bias PMI score', fontsize=13)\n",
    "plt.xlabel('Group', fontsize=13)"
   ]
  },
  {
   "cell_type": "code",
   "execution_count": null,
   "metadata": {},
   "outputs": [],
   "source": []
  }
 ],
 "metadata": {
  "kernelspec": {
   "display_name": "Python 3",
   "language": "python",
   "name": "python3"
  },
  "language_info": {
   "codemirror_mode": {
    "name": "ipython",
    "version": 3
   },
   "file_extension": ".py",
   "mimetype": "text/x-python",
   "name": "python",
   "nbconvert_exporter": "python",
   "pygments_lexer": "ipython3",
   "version": "3.11.5"
  }
 },
 "nbformat": 4,
 "nbformat_minor": 2
}
