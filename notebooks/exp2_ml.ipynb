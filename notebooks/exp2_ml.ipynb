{
 "cells": [
  {
   "cell_type": "code",
   "execution_count": 1,
   "metadata": {},
   "outputs": [],
   "source": [
    "import pandas as pd\n",
    "import seaborn as sns\n",
    "import matplotlib.pyplot as plt\n",
    "sns.set_theme(style=\"whitegrid\")\n",
    "import sys\n",
    "sys.path.append('../scripts/') \n",
    "from bias import *\n",
    "from stats import *"
   ]
  },
  {
   "cell_type": "code",
   "execution_count": 2,
   "metadata": {},
   "outputs": [
    {
     "data": {
      "text/plain": [
       "(59, 2)"
      ]
     },
     "execution_count": 2,
     "metadata": {},
     "output_type": "execute_result"
    }
   ],
   "source": [
    "conv_reflect = pd.read_excel(\"../data/reflect_write/raw/Conversational Reflection Texte.xlsx\")\n",
    "conv_reflect.shape"
   ]
  },
  {
   "cell_type": "code",
   "execution_count": 3,
   "metadata": {},
   "outputs": [
    {
     "data": {
      "text/plain": [
       "Gruppe\n",
       "CG     20\n",
       "TG1    20\n",
       "TG2    19\n",
       "dtype: int64"
      ]
     },
     "execution_count": 3,
     "metadata": {},
     "output_type": "execute_result"
    }
   ],
   "source": [
    "conv_reflect.groupby(\"Gruppe\").size()"
   ]
  },
  {
   "cell_type": "code",
   "execution_count": 4,
   "metadata": {},
   "outputs": [
    {
     "name": "stderr",
     "output_type": "stream",
     "text": [
      "/Users/su/Desktop/writing bias/notebooks/../scripts/bias.py:45: GuessedAtParserWarning: No parser was explicitly specified, so I'm using the best available HTML parser for this system (\"lxml\"). This usually isn't a problem, but if you run this code on another system, or in a different virtual environment, it may use a different parser and behave differently.\n",
      "\n",
      "The code that caused this warning is on line 45 of the file /Users/su/Desktop/writing bias/notebooks/../scripts/bias.py. To get rid of this warning, pass the additional argument 'features=\"lxml\"' to the BeautifulSoup constructor.\n",
      "\n",
      "  sentences = BeautifulSoup(text).get_text(\" \")\n"
     ]
    },
    {
     "data": {
      "text/html": [
       "<div>\n",
       "<style scoped>\n",
       "    .dataframe tbody tr th:only-of-type {\n",
       "        vertical-align: middle;\n",
       "    }\n",
       "\n",
       "    .dataframe tbody tr th {\n",
       "        vertical-align: top;\n",
       "    }\n",
       "\n",
       "    .dataframe thead th {\n",
       "        text-align: right;\n",
       "    }\n",
       "</style>\n",
       "<table border=\"1\" class=\"dataframe\">\n",
       "  <thead>\n",
       "    <tr style=\"text-align: right;\">\n",
       "      <th></th>\n",
       "      <th>Gruppe</th>\n",
       "      <th>Texte</th>\n",
       "      <th>Texte_clean</th>\n",
       "      <th>word_gender</th>\n",
       "      <th>word_dict</th>\n",
       "      <th>total_words</th>\n",
       "      <th>total_unique_words</th>\n",
       "      <th>total_m_cooc</th>\n",
       "      <th>total_f_cooc</th>\n",
       "      <th>bias_records</th>\n",
       "      <th>bias_score</th>\n",
       "    </tr>\n",
       "  </thead>\n",
       "  <tbody>\n",
       "    <tr>\n",
       "      <th>16</th>\n",
       "      <td>CG</td>\n",
       "      <td>In meinem Arbeitsalltag habe ich die Möglichke...</td>\n",
       "      <td>arbeitsalltag möglichkeit bekommen unbekannten...</td>\n",
       "      <td>{'arbeitsalltag': {'m': 1e-06, 'f': 1e-06, 'fe...</td>\n",
       "      <td>{'arbeitsalltag': 1, 'möglichkeit': 1, 'bekomm...</td>\n",
       "      <td>321</td>\n",
       "      <td>218</td>\n",
       "      <td>19.000218</td>\n",
       "      <td>38.000218</td>\n",
       "      <td>{'arbeitsalltag': {'m': 1e-06, 'f': 1e-06, 'fe...</td>\n",
       "      <td>-0.3893</td>\n",
       "    </tr>\n",
       "    <tr>\n",
       "      <th>22</th>\n",
       "      <td>TG1</td>\n",
       "      <td>Ich spreche später mit meiner Praktikumsverant...</td>\n",
       "      <td>spreche später praktikumsverantwortlichen darü...</td>\n",
       "      <td>{'spreche': {'m': 1e-06, 'f': 1e-06, 'female':...</td>\n",
       "      <td>{'spreche': 1, 'später': 1, 'praktikumsverantw...</td>\n",
       "      <td>35</td>\n",
       "      <td>31</td>\n",
       "      <td>19.000031</td>\n",
       "      <td>0.000031</td>\n",
       "      <td>{'spreche': {'m': 1e-06, 'f': 1e-06, 'female':...</td>\n",
       "      <td>-5.2815</td>\n",
       "    </tr>\n",
       "    <tr>\n",
       "      <th>17</th>\n",
       "      <td>CG</td>\n",
       "      <td>Ich habe meine Weiterbildung im September 2022...</td>\n",
       "      <td>weiterbildung september gestartet praktikum fü...</td>\n",
       "      <td>{'weiterbildung': {'m': 1e-06, 'f': 1e-06, 'fe...</td>\n",
       "      <td>{'weiterbildung': 1, 'september': 1, 'gestarte...</td>\n",
       "      <td>135</td>\n",
       "      <td>117</td>\n",
       "      <td>19.000117</td>\n",
       "      <td>57.000117</td>\n",
       "      <td>{'weiterbildung': {'m': 1e-06, 'f': 1e-06, 'fe...</td>\n",
       "      <td>-0.2258</td>\n",
       "    </tr>\n",
       "    <tr>\n",
       "      <th>8</th>\n",
       "      <td>CG</td>\n",
       "      <td>Ich ging zu einer Klientin welche ein Stoma ha...</td>\n",
       "      <td>ging klientin stoma platte stoma locker erneue...</td>\n",
       "      <td>{'ging': {'m': 1e-06, 'f': 1e-06, 'female': []...</td>\n",
       "      <td>{'ging': 1, 'klientin': 1, 'stoma': 4, 'platte...</td>\n",
       "      <td>119</td>\n",
       "      <td>83</td>\n",
       "      <td>0.000083</td>\n",
       "      <td>0.000083</td>\n",
       "      <td>{'ging': {'m': 1e-06, 'f': 1e-06, 'female': []...</td>\n",
       "      <td>0.0000</td>\n",
       "    </tr>\n",
       "    <tr>\n",
       "      <th>4</th>\n",
       "      <td>CG</td>\n",
       "      <td>Im Praxisalltag habe ich die Erfahrung auf ein...</td>\n",
       "      <td>praxisalltag erfahrung demenz abteilung gemach...</td>\n",
       "      <td>{'praxisalltag': {'m': 1e-06, 'f': 1e-06, 'fem...</td>\n",
       "      <td>{'praxisalltag': 1, 'erfahrung': 1, 'demenz': ...</td>\n",
       "      <td>96</td>\n",
       "      <td>76</td>\n",
       "      <td>70.000076</td>\n",
       "      <td>19.000076</td>\n",
       "      <td>{'praxisalltag': {'m': 1e-06, 'f': 1e-06, 'fem...</td>\n",
       "      <td>2.0195</td>\n",
       "    </tr>\n",
       "    <tr>\n",
       "      <th>29</th>\n",
       "      <td>TG1</td>\n",
       "      <td>ich bin als bezugspflegeperson auf der station...</td>\n",
       "      <td>bezugspflegeperson station kognitiv eingeschrä...</td>\n",
       "      <td>{'bezugspflegeperson': {'m': 1e-06, 'f': 1e-06...</td>\n",
       "      <td>{'bezugspflegeperson': 1, 'station': 2, 'kogni...</td>\n",
       "      <td>168</td>\n",
       "      <td>129</td>\n",
       "      <td>38.000129</td>\n",
       "      <td>169.000129</td>\n",
       "      <td>{'bezugspflegeperson': {'m': 1e-06, 'f': 1e-06...</td>\n",
       "      <td>-2.3689</td>\n",
       "    </tr>\n",
       "    <tr>\n",
       "      <th>55</th>\n",
       "      <td>TG2</td>\n",
       "      <td>Ich habe vor meinem Studium eine Ausbildung zu...</td>\n",
       "      <td>studium ausbildung fachfrau gesundheit begonne...</td>\n",
       "      <td>{'studium': {'m': 1e-06, 'f': 1e-06, 'female':...</td>\n",
       "      <td>{'studium': 1, 'ausbildung': 1, 'fachfrau': 1,...</td>\n",
       "      <td>164</td>\n",
       "      <td>131</td>\n",
       "      <td>0.000131</td>\n",
       "      <td>72.000131</td>\n",
       "      <td>{'studium': {'m': 1e-06, 'f': 1e-06, 'female':...</td>\n",
       "      <td>9.7831</td>\n",
       "    </tr>\n",
       "    <tr>\n",
       "      <th>41</th>\n",
       "      <td>TG2</td>\n",
       "      <td>Am morgen kahm ich auf die Station und musst e...</td>\n",
       "      <td>morgen kahm station musst blutentnahme bevor z...</td>\n",
       "      <td>{'morgen': {'m': 1e-06, 'f': 1e-06, 'female': ...</td>\n",
       "      <td>{'morgen': 1, 'kahm': 3, 'station': 1, 'musst'...</td>\n",
       "      <td>114</td>\n",
       "      <td>79</td>\n",
       "      <td>114.000079</td>\n",
       "      <td>55.000079</td>\n",
       "      <td>{'morgen': {'m': 1e-06, 'f': 1e-06, 'female': ...</td>\n",
       "      <td>3.5303</td>\n",
       "    </tr>\n",
       "    <tr>\n",
       "      <th>0</th>\n",
       "      <td>CG</td>\n",
       "      <td>Da ich qereinsteger bin war für mich alles ein...</td>\n",
       "      <td>qereinsteger neue erfahrung damals lehre autom...</td>\n",
       "      <td>{'qereinsteger': {'m': 1e-06, 'f': 1e-06, 'fem...</td>\n",
       "      <td>{'qereinsteger': 1, 'neue': 2, 'erfahrung': 1,...</td>\n",
       "      <td>53</td>\n",
       "      <td>51</td>\n",
       "      <td>19.000051</td>\n",
       "      <td>19.000051</td>\n",
       "      <td>{'qereinsteger': {'m': 1e-06, 'f': 1e-06, 'fem...</td>\n",
       "      <td>-0.0000</td>\n",
       "    </tr>\n",
       "    <tr>\n",
       "      <th>6</th>\n",
       "      <td>CG</td>\n",
       "      <td>Ich habe Bew. unterstützt beim Skypen . Er hat...</td>\n",
       "      <td>bew unterstützt beim skypen er schwierigkeiten...</td>\n",
       "      <td>{'bew': {'m': 1e-06, 'f': 1e-06, 'female': [],...</td>\n",
       "      <td>{'bew': 1, 'unterstützt': 1, 'beim': 1, 'skype...</td>\n",
       "      <td>71</td>\n",
       "      <td>51</td>\n",
       "      <td>221.000051</td>\n",
       "      <td>0.000051</td>\n",
       "      <td>{'bew': {'m': 1e-06, 'f': 1e-06, 'female': [],...</td>\n",
       "      <td>-0.9700</td>\n",
       "    </tr>\n",
       "  </tbody>\n",
       "</table>\n",
       "</div>"
      ],
      "text/plain": [
       "   Gruppe                                              Texte  \\\n",
       "16     CG  In meinem Arbeitsalltag habe ich die Möglichke...   \n",
       "22    TG1  Ich spreche später mit meiner Praktikumsverant...   \n",
       "17     CG  Ich habe meine Weiterbildung im September 2022...   \n",
       "8      CG  Ich ging zu einer Klientin welche ein Stoma ha...   \n",
       "4      CG  Im Praxisalltag habe ich die Erfahrung auf ein...   \n",
       "29    TG1  ich bin als bezugspflegeperson auf der station...   \n",
       "55    TG2  Ich habe vor meinem Studium eine Ausbildung zu...   \n",
       "41    TG2  Am morgen kahm ich auf die Station und musst e...   \n",
       "0      CG  Da ich qereinsteger bin war für mich alles ein...   \n",
       "6      CG  Ich habe Bew. unterstützt beim Skypen . Er hat...   \n",
       "\n",
       "                                          Texte_clean  \\\n",
       "16  arbeitsalltag möglichkeit bekommen unbekannten...   \n",
       "22  spreche später praktikumsverantwortlichen darü...   \n",
       "17  weiterbildung september gestartet praktikum fü...   \n",
       "8   ging klientin stoma platte stoma locker erneue...   \n",
       "4   praxisalltag erfahrung demenz abteilung gemach...   \n",
       "29  bezugspflegeperson station kognitiv eingeschrä...   \n",
       "55  studium ausbildung fachfrau gesundheit begonne...   \n",
       "41  morgen kahm station musst blutentnahme bevor z...   \n",
       "0   qereinsteger neue erfahrung damals lehre autom...   \n",
       "6   bew unterstützt beim skypen er schwierigkeiten...   \n",
       "\n",
       "                                          word_gender  \\\n",
       "16  {'arbeitsalltag': {'m': 1e-06, 'f': 1e-06, 'fe...   \n",
       "22  {'spreche': {'m': 1e-06, 'f': 1e-06, 'female':...   \n",
       "17  {'weiterbildung': {'m': 1e-06, 'f': 1e-06, 'fe...   \n",
       "8   {'ging': {'m': 1e-06, 'f': 1e-06, 'female': []...   \n",
       "4   {'praxisalltag': {'m': 1e-06, 'f': 1e-06, 'fem...   \n",
       "29  {'bezugspflegeperson': {'m': 1e-06, 'f': 1e-06...   \n",
       "55  {'studium': {'m': 1e-06, 'f': 1e-06, 'female':...   \n",
       "41  {'morgen': {'m': 1e-06, 'f': 1e-06, 'female': ...   \n",
       "0   {'qereinsteger': {'m': 1e-06, 'f': 1e-06, 'fem...   \n",
       "6   {'bew': {'m': 1e-06, 'f': 1e-06, 'female': [],...   \n",
       "\n",
       "                                            word_dict  total_words  \\\n",
       "16  {'arbeitsalltag': 1, 'möglichkeit': 1, 'bekomm...          321   \n",
       "22  {'spreche': 1, 'später': 1, 'praktikumsverantw...           35   \n",
       "17  {'weiterbildung': 1, 'september': 1, 'gestarte...          135   \n",
       "8   {'ging': 1, 'klientin': 1, 'stoma': 4, 'platte...          119   \n",
       "4   {'praxisalltag': 1, 'erfahrung': 1, 'demenz': ...           96   \n",
       "29  {'bezugspflegeperson': 1, 'station': 2, 'kogni...          168   \n",
       "55  {'studium': 1, 'ausbildung': 1, 'fachfrau': 1,...          164   \n",
       "41  {'morgen': 1, 'kahm': 3, 'station': 1, 'musst'...          114   \n",
       "0   {'qereinsteger': 1, 'neue': 2, 'erfahrung': 1,...           53   \n",
       "6   {'bew': 1, 'unterstützt': 1, 'beim': 1, 'skype...           71   \n",
       "\n",
       "    total_unique_words  total_m_cooc  total_f_cooc  \\\n",
       "16                 218     19.000218     38.000218   \n",
       "22                  31     19.000031      0.000031   \n",
       "17                 117     19.000117     57.000117   \n",
       "8                   83      0.000083      0.000083   \n",
       "4                   76     70.000076     19.000076   \n",
       "29                 129     38.000129    169.000129   \n",
       "55                 131      0.000131     72.000131   \n",
       "41                  79    114.000079     55.000079   \n",
       "0                   51     19.000051     19.000051   \n",
       "6                   51    221.000051      0.000051   \n",
       "\n",
       "                                         bias_records  bias_score  \n",
       "16  {'arbeitsalltag': {'m': 1e-06, 'f': 1e-06, 'fe...     -0.3893  \n",
       "22  {'spreche': {'m': 1e-06, 'f': 1e-06, 'female':...     -5.2815  \n",
       "17  {'weiterbildung': {'m': 1e-06, 'f': 1e-06, 'fe...     -0.2258  \n",
       "8   {'ging': {'m': 1e-06, 'f': 1e-06, 'female': []...      0.0000  \n",
       "4   {'praxisalltag': {'m': 1e-06, 'f': 1e-06, 'fem...      2.0195  \n",
       "29  {'bezugspflegeperson': {'m': 1e-06, 'f': 1e-06...     -2.3689  \n",
       "55  {'studium': {'m': 1e-06, 'f': 1e-06, 'female':...      9.7831  \n",
       "41  {'morgen': {'m': 1e-06, 'f': 1e-06, 'female': ...      3.5303  \n",
       "0   {'qereinsteger': {'m': 1e-06, 'f': 1e-06, 'fem...     -0.0000  \n",
       "6   {'bew': {'m': 1e-06, 'f': 1e-06, 'female': [],...     -0.9700  "
      ]
     },
     "execution_count": 4,
     "metadata": {},
     "output_type": "execute_result"
    }
   ],
   "source": [
    "conv_reflect_bias = clean_calc_bias(conv_reflect.copy(), 'Texte')\n",
    "conv_reflect_bias.sample(10)"
   ]
  },
  {
   "cell_type": "code",
   "execution_count": 5,
   "metadata": {},
   "outputs": [
    {
     "data": {
      "text/plain": [
       "Gruppe                0\n",
       "Texte                 0\n",
       "Texte_clean           0\n",
       "word_gender           0\n",
       "word_dict             0\n",
       "total_words           0\n",
       "total_unique_words    0\n",
       "total_m_cooc          0\n",
       "total_f_cooc          0\n",
       "bias_records          0\n",
       "bias_score            0\n",
       "dtype: int64"
      ]
     },
     "execution_count": 5,
     "metadata": {},
     "output_type": "execute_result"
    }
   ],
   "source": [
    "conv_reflect_bias.isna().sum()"
   ]
  },
  {
   "cell_type": "code",
   "execution_count": 12,
   "metadata": {},
   "outputs": [],
   "source": [
    "conv_reflect_bias.to_csv(\"../data/reflect_write/reflect_ml.csv\")\n",
    "conv_reflect_bias.Texte_clean.to_csv(\"../data/reflect_write/weat/reflect_ml.txt\", index=False, header=False)"
   ]
  },
  {
   "cell_type": "markdown",
   "metadata": {},
   "source": [
    "## WEAT COOC"
   ]
  },
  {
   "cell_type": "code",
   "execution_count": null,
   "metadata": {},
   "outputs": [],
   "source": [
    "# !python -m spacy download de_core_news_sm"
   ]
  },
  {
   "cell_type": "code",
   "execution_count": 11,
   "metadata": {},
   "outputs": [
    {
     "name": "stdout",
     "output_type": "stream",
     "text": [
      "Please make sure that your input texts are whitespace separated tokens. The script might not work correctly otherwise.\n",
      "Generating target-association test pairs...\n",
      "Extracting candidate posts...\n",
      "  8%|███▏                                   | 626/7557 [00:01<00:14, 488.33it/s]post wundverband dementem patient patient schon mehrere tage station seit ersten tag er kompromiss bereit er waschen hielt stationsregeln machte sein eigenes ding patient etwasnjahre alter mann seit kindheit bauer wurde hause mehr tragbar ganze wohnung verdreck überstellt vekalien lagen überall verteilt verstrichen patient strak kachektisch er ernährte ausschliesslich milch brot station angekommen versuchten ihn normal gewicht bringen hygiene aufzufrischen er weigerte jedoch jegliche unterstützung anzunehmen er immer gefühl ihn geld kosten krankenkassen zahlen er lust pflege medizinische behandlung unterschenkel er grosse nässende entzündete wunde beine strak ödematös nässten wichtig wunde versorgen er strak unternährt er immun geschwächt ganz schlimm enden beine ziel mal wunde ganze bein betrachten er weigerte strak wehrte pflege nachmittages gerade mehr tun dachte versuche ihn überreden beine mal anschauen patient sahs esstisch allein trank gerade milch ging ihn sprach ihn wenig versuchte möglichst deeskalierend gespräch führen dementen patienten wichtig validation anzuwenden heisst spreche augenhöhe ihm respektvoll allerwichtigste wenig welt einzutauchen ihn realität zurückzuziehen ihm welt arbeiten gelang sein bein verbinden begutachten machte gerade fussbad füsse waschen leider er lust lange stuhl sitzen schnell konnte immer hygiene richtlinien halten bein verbinden\n",
      " 40%|██████████████▊                      | 3033/7557 [00:01<00:01, 2947.99it/s]post mehrere tage lang patienten fortgeschrittenen betreut eintrittsgrund er schwerwiegende aspiration daraus resultierender pneumonie erleiden krankheit fortgeschritten angehörigen mehr rechneten er allgemeinzustandsverbesserung er kam station pflegte ihn lange kurz austritt er erzählte zuhause umfeld vergangenheit pflege aufwändig daher zeit nahm zeit betreuung pflege gemischt beginn interessiert er umfassende diagnoseliste dazugehörigen pflegeinterventionen berufsbildnerin ihn gesprochen sie zusammenhang erklärt pflege aufwändig wünscht abstand gleichzeitig gab struktur ihn oft betreut seit beginn gut verstanden freute er positives feedback gegeben betreuung pflege lief gut kannte ihn tag tag besser konnte gewohnheiten miteinbeziehen führte er oft klingeln freitagen austritt erfahren austritt optimal gelaufen bedrückt team fallbesprechung thema angesprochen konnten vorschläge änderungen bezug nächsten austritt thematisieren menschen unterschiedlich er ging beginn locker diagnose austritt situation zugespitzt er wurde wütend pflege ihm aufwändig froh zeit verfügung kenntnisse konnte bezug pathophysiologie erweitern er aspiration folge pneumonie er links häufig aufgrund anatomischen strukturen bronchien mehr hinterfragen warum wieso geschehen verknüpfung pflegeinterventionen leichter\n",
      " 73%|██████████████████████████▉          | 5495/7557 [00:02<00:00, 5798.21it/s]post situation geht patienten sterben patient alter mann zuhause gelebt aufgrund schlaganfalls spital eingewiesen wurde er leichte demenz patient mehrere wochen station allgemeinzustand wochen immer mehr verschlechtert weiterhin tag ressourcen gefördert er schwierigste mobilisation beim patienten patient rechten seite gelähmt somit rechten seite bewegen dennoch patienten mal täglich mobilisieren schwierig wegen gelähmten seit patient adipös starke schmerzen patient fast tag traurig sterben mehr leben familie akzeptierte lebenserweiterte massnahmen durchführen daher pflegenden schwierig angehörigen erklären patient leben möchte sterben angehörigen patienten verstanden sie los lassen dennoch patienten mehr verstanden patient gelitten schmerzen er selber gefühl besser immer schlechter beide ansichten verstanden patient leid getan angehörigen verständnis patienten gespräche durchgeführt angehörigen pflege ärzte geholfen patient leichte demenz sagten angehörigen er entscheiden er redet ernst meint er sterben patienten tag mobilisiert schwierig patient motivation aufzustehen einfach ganzen tag schlafen er schmerzen er kaum bewegen er angst stürzen mobilisation gut lief ärzte einbezogen wurden aufgrund sterben angehörigen gespräche geführt wurden mobilisation lief gut mobilisation schmerz medikamente verabreicht worden patient schmerzen gut lief patienten motivierten mehr informieren besten patienten motivieren ansonsten gut reagiert bedürfnisse patientin achten\n",
      " 87%|████████████████████████████████▎    | 6601/7557 [00:02<00:00, 6434.77it/s]post psychiatrie gearbeitet damals jährige ersten mal schwer chronifizierten suchpataientn tun gut ersten patienten erinnern zuständig herr s er seit vielen jahren heroin abhängig methadon programm zusätzlich er laufe zeit alkoholproblem entwickelt er kleine tochter ehefrau ersten mal ihm gesprochen er nieder geschlagen er sagte er wolle geben er wider heroin aufhören könne tochter liebe nahm ernst meinung entzug erfolg er wenigen tagen ersten rückfall überrast wusste wieso dachte er sei motiviert jedoch dachte passieren versucht darüber sprechen genau auslöser gewesene sei er wider konsumiert sagte er alten dealer stadt getroffen widerstehen konnte zusammen strategie erarbeitet zukunft umgehen ungefähr woche später kam nächsten rückfall wider gefrag passieren konnte er stark beteuerte wichtig sei tochter sassen zusammen besprochen passiert er erklärte letzten woche vorherigen rückfall schlecht unsicher gefühlt schwachen moment kam besprochen er zukunft mal kommt gespräch angefangen verstehen sucht wirklich bedeuten stress auslöser coping zugleich rettung untergang sucht mangelnder willenskraft zutun krankheit schwere fällen leider unheilbare krankheit patient mal betreut verschiedenen aufenthalten patient manchmal grenzen gebracht schetzte ihn immer zunächst frustriert gebiet erfahrung konnte verstehen krankheitsbild funktionierte wenig gesehenerlebt nachhinein betrachtet hätte gerne mehr verständnis gehabt jedoch konnte moment schwierige situation froh erfahrung konnte konnte neues lernen umgang psychisch erkrankten menschen erfahrung konnte besser zukünftigen patienten umgehen besseres verständnis sie konnte erfahrung lernen fehlende motivation fehlende willenskraft machte einfacher patienten arbeiten gutes team seit vieles gezeigt erklärt schon erwähnt konnte verständnisvoller geduldiger umgang anspruchsvollen patientensituationen beruf alltag heute immer vereinfacht gelernt personen schwierige situation meistern ihre erkrankung denke fähigkeit lebensbereichen anwenden arbeitsleben\n",
      "post studium ausbildung fachfrau gesundheit begonnen letzen sommer abgeschlossen neu angefangen lief gut wirklich angestrengt fachgebiet spannend jedoch berufsbildnerin zwei abteilungen zuständig tiefprozentig gearbeitet heisst sie einzelnen lernenden wenig zeit jeweils mal lernbegleitung sie oftmals nachhause gehen ihr kind krank sie kleines kind zeitpunkt zuhause geht natürlich dementsprechend gelernt zeit zweiten lehrjahr station gewechselt ziemlich überfordert gynäkologischen abteilung ziemlich patienten sst geriatrische abteilung gekommen ziemlich patient pflege aufwenig neuen abteilung gab wenig einführung erwartete schon wissen korrekt körperpflege durchführe hygienischen standart damals ük gelernt nie angewendet geht eben verloren wissen ja gefühlt ersten moment ziemlich überfordert gefühlt verständnis entgegen gebracht ganze team frustrierte jeweils anfang grosse selbstzweifel gefühl ja gar könne brachte seiten rüber jedoch konnte profitieren zeit person pflegeperson bestärkt sicherlich gut gelaufen gelernt eigeninitiative ergreifen immer herzen nehmen darf mal feedback vielleicht konstruktiv sicherlich immer versucht feedbacks anzunehmen umzusetzen gut viele komplexe patientenfälle dabei lernen konnte obwohl beibringen gut gelaufen sicherlich nie gewehrt immer lassen lernerfolg einsetze weitere erkenntnisse siehe oben siehe oben\n",
      "post patienten betreut wegen alkoholabusus eingeliefert wurde er zeigte symptome leberzirrhose zurzeit er vielen schicksalsschlägen kämpfen zb scheidung frau er harn inkontinent einsicht sein verhalten meinung bier alkoholisches getränk galt er oft unzufrieden waschen er täglich mehrmals bettwäsche neu beziehen ihm dabei helfen toilette gelangen mehren tagen entstanden entzugssymptome ihn reizbar machten situation aktuellen privaten situation machte ihn ziemlich fertig dabei jemanden unterstützen tagesstruktur erhalten einfach ihn betreute versuchte lösungen finden patient geeignet danach kam patient delirum ihn herausbringen mussten begleitet wurde patient austritt betreutes wohnen zuerst schwer beziehung patienten aufzubauen rapporte klangen oftmals schwerwiegend versuche patienten vorurteile entgegen kommen wünschte hätte anfangs mehr zeit gehabt vollumfänglich ihn kümmern geschichte berührte versuchte empathie zeigen patienten situation verstehen sein privat leben kippte er wurde krank scheidung durchmachen manchmal sauer patienten ja beste patienten möchte gleich annehmen froh mehr erfahren leben sehen warum er verhalten froh gespräch führen konnte patienten geholfen ausgewöhnliche situation versucht situationen problematiken erkennen fall auseinandergesetzt beispiel er erhöhten sturzgefahr sein delir bedeutete er anweisungen sitzen bleiben sitzen geblieben aufgestanden dabei sturzverletzungen holte dabei situation erkannt bodenbett organisieren lassen sodass patient verletzten urinalkondom einsetzten lassen ihm schlaf nachts verbesserte pflegenden erleichterung täglich mal nachts bettwäsche wechseln mussten denke hätte anfang mehr einsetzten sollen mehr gespräche führen mehr bedürfnissen acht geben erst späht zeit genommen patienten zusammen tagesstruktur einzubringen sodass seien bedürfnisse erfüllt therapieplan verfolgen konnten konnte vertrauensvollen beziehung danach gute unterkunft finden patient zufrieden gelernt menschen meist grund sein verhalten psyche patienten vergisst entstehen vertrauensvolle basis komplizierteren patienten funktioniert mensch verurteilt leider häufig passiert beim rapportieren fällen hoffentlich mehrere jahren patienten unterstützen besserung deren leben finden versuche seither immer blick ganzheitlich legen schule hfso gut beugebracht beim rollenwechsel fachfrau gesundheit dipl pflegefachfrau\n",
      "100%|█████████████████████████████████████| 7557/7557 [00:02<00:00, 2986.70it/s]\n",
      "candidates [None, None, None, None, None, None, None, None, None, None, None, None, None, None, None, None, None, None, None, None, None, None, None, None, None, None, None, None, None, None, None, None, None, None, None, None, None, None, None, None, None, None, None, None, None, None, None, None, None, None, None, None, None, None, None, None, None, None, None, None, None, None, None, None, None, None, None, None, None, None, None, None, None, None, None, None, None, None, None, None, None, None, None, None, None, None, None, None, None, None, None, None, None, None, None, None, None, None, None, None, None, None, None, None, None, None, None, None, None, None, None, None, None, None, None, None, None, None, None, None, None, None, None, None, None, None, None, None, None, None, None, None, None, None, None, None, None, None, None, None, None, None, None, None, None, None, None, None, None, None, None, None, None, None, None, None, None, None, None, None, None, None, None, None, None, None, None, None, None, None, None, None, None, None, None, None, None, None, None, None, None, None, None, None, None, None, None, None, None, None, None, None, None, None, None, None, None, None, None, None, None, None, None, None, None, None, None, None, None, None, None, None, None, None, None, None, None, None, None, None, None, None, None, None, None, None, None, None, None, None, None, None, None, None, None, None, None, None, None, None, None, None, None, None, None, None, None, None, None, None, None, None, None, None, None, None, None, None, None, None, None, None, None, None, None, None, None, None, None, None, None, None, None, None, None, None, None, None, None, None, None, None, None, None, None, None, None, None, None, None, None, None, None, None, None, None, None, None, None, None, None, None, None, None, None, None, None, None, None, None, None, None, None, None, None, None, None, None, None, None, None, None, None, None, None, None, None, None, None, None, None, None, None, None, None, None, None, None, None, None, None, None, None, None, None, None, None, None, None, None, None, None, None, None, None, None, None, None, None, None, None, None, None, None, None, None, None, None, None, None, None, None, None, None, None, None, None, None, None, None, None, None, None, None, None, None, None, None, None, None, None, None, None, None, None, None, None, None, None, None, None, None, None, None, None, None, None, None, None, None, None, None, None, None, None, None, None, None, None, None, None, None, None, None, None, None, None, None, None, None, None, None, None, None, None, None, None, None, None, None, None, None, None, None, None, None, None, None, None, None, None, None, None, None, None, None, None, None, None, None, None, None, None, None, None, None, None, None, None, None, None, None, None, None, None, None, None, None, None, None, None, None, None, None, None, None, None, None, None, None, None, None, None, None, None, None, None, None, None, None, None, None, None, None, None, None, None, None, None, None, None, None, None, None, None, None, None, None, None, None, None, None, None, None, None, None, None, None, None, None, None, None, None, None, None, None, None, None, None, None, None, None, None, None, None, None, None, None, None, None, None, None, None, None, None, None, None, None, None, None, None, None, None, None, None, None, None, None, None, None, None, None, None, None, None, None, None, None, None, None, None, None, None, None, None, None, None, None, None, None, None, None, None, None, None, None, None, None, None, None, None, None, None, None, None, None, None, None, None, None, None, None, None, None, None, None, None, None, None, None, None, None, None, None, None, None, None, None, None, None, None, None, None, None, None, None, None, None, None, None, None, None, None, None, None, None, None, None, None, None, None, None, None, None, None, None, None, None, None, None, None, None, None, None, None, None, None, None, None, None, None, None, None, None, None, None, None, None, None, None, None, None, None, None, None, None, None, None, None, None, None, None, None, None, None, None, None, None, None, None, None, None, None, None, None, None, None, None, None, None, None, None, None, None, None, None, None, None, None, None, None, None, None, None, None, None, None, None, None, None, None, None, None, None, None, None, None, None, None, None, None, None, None, None, None, None, None, None, None, None, None, None, None, None, None, None, None, None, None, None, None, None, None, None, None, None, None, None, None, None, None, None, None, None, None, None, None, None, None, None, None, None, None, None, None, None, None, None, None, None, None, None, None, None, None, None, None, None, None, None, None, None, None, None, None, None, None, None, None, None, None, None, None, None, None, None, None, None, None, None, None, None, None, None, None, None, None, None, None, None, None, None, None, None, None, None, None, None, None, None, None, None, None, None, None, None, None, None, None, None, None, None, None, None, None, None, None, None, None, None, None, None, None, None, None, None, None, None, None, None, None, None, None, None, None, None, None, None, None, None, None, None, None, None, None, None, None, None, None, None, None, None, None, None, None, None, None, None, None, None, None, None, None, None, None, None, None, None, None, None, None, None, None, None, None, None, None, None, None, None, None, None, None, None, None, None, None, None, None, None, None, None, None, None, None, None, None, None, None, None, None, None, None, None, None, None, None, None, None, None, None, None, None, None, None, None, None, None, None, None, None, None, None, None, None, None, None, None, None, None, None, None, None, None, None, None, None, None, None, None, None, None, None, None, None, None, None, None, None, None, None, None, None, None, None, None, None, None, None, None, None, None, None, None, None, None, None, None, None, None, None, None, None, None, None, None, None, None, None, None, None, None, None, None, None, None, None, None, None, None, None, None, None, None, None, None, None, None, None, None, None, None, None, None, None, None, None, None, None, None, None, None, None, None, None, None, None, None, None, None, None, None, None, None, None, None, None, None, None, None, None, None, None, None, None, None, None, None, None, None, None, None, None, None, None, None, None, None, None, None, None, None, None, None, None, None, None, None, None, None, None, None, None, None, None, None, None, None, None, None, None, None, None, None, None, None, None, None, None, None, None, None, None, None, None, None, None, None, None, None, None, None, None, None, None, None, None, None, None, None, None, None, None, None, None, None, None, None, None, None, None, None, None, None, None, None, None, None, None, None, None, None, None, None, None, None, None, None, None, None, None, None, None, None, None, None, None, None, None, None, None, None, None, None, None, None, None, None, None, None, None, None, None, None, None, None, None, None, None, None, None, None, None, None, None, None, None, None, None, None, None, None, None, None, None, None, None, None, None, None, None, None, None, None, None, None, None, None, None, None, None, None, None, None, None, None, None, None, None, None, None, None, None, None, None, None, None, None, None, None, None, None, None, None, None, None, None, None, None, None, None, None, None, None, None, None, None, None, None, None, None, None, None, None, None, None, None, None, None, None, None, None, None, None, None, None, None, None, None, None, None, None, None, None, None, None, None, None, None, None, None, None, None, None, None, None, None, None, None, None, None, None, None, None, None, None, None, None, None, None, None, None, None, None, None, None, None, None, None, None, None, None, None, None, None, None, None, None, None, None, None, None, None, None, None, None, None, None, None, None, None, None, None, None, None, None, None, None, None, None, None, None, None, None, None, None, None, None, None, None, None, None, None, None, None, None, None, None, None, None, None, None, None, None, None, None, None, None, None, None, None, None, None, None, None, None, None, None, None, None, None, None, None, None, None, None, None, None, None, None, None, None, None, None, None, None, None, None, None, None, None, None, None, None, None, None, None, None, None, None, None, None, None, None, None, None, None, None, None, None, None, None, None, None, None, None, None, None, None, None, None, None, None, None, None, None, None, None, None, None, None, None, None, None, None, None, None, None, None, None, None, None, None, None, None, None, None, None, None, None, None, None, None, None, None, None, None, None, None, None, None, None, None, None, None, None, None, None, None, None, None, None, None, None, None, None, None, None, None, None, None, None, None, None, None, None, None, None, None, None, None, None, None, None, None, None, None, None, None, None, None, None, None, None, None, None, None, None, None, None, None, None, None, None, None, None, None, None, None, None, None, None, None, None, None, None, None, None, None, None, None, None, None, None, None, None, None, None, None, None, None, None, None, None, None, None, None, None, None, None, None, None, None, None, None, None, None, None, None, None, None, None, None, None, None, None, None, None, None, None, None, None, None, None, None, None, None, None, None, None, None, None, None, None, None, None, None, None, None, None, None, None, None, None, None, None, None, None, None, None, None, None, None, None, None, None, None, None, None, None, None, None, None, None, None, None, None, None, None, None, None, None, None, None, None, None, None, None, None, None, None, None, None, None, None, None, None, None, None, None, None, None, None, None, None, None, None, None, None, None, None, None, None, None, None, None, None, None, None, None, None, None, None, None, None, None, None, None, None, None, None, None, None, None, None, None, None, None, None, None, None, None, None, None, None, None, None, None, None, None, None, None, None, None, None, None, None, None, None, None, None, None, None, None, ['wundverband dementem patient patient schon mehrere tage station seit ersten tag er kompromiss bereit er waschen hielt stationsregeln machte sein eigenes ding patient etwasnjahre alter mann seit kindheit bauer wurde hause mehr tragbar ganze wohnung verdreck überstellt vekalien lagen überall verteilt verstrichen patient strak kachektisch er ernährte ausschliesslich milch brot station angekommen versuchten ihn normal gewicht bringen hygiene aufzufrischen er weigerte jedoch jegliche unterstützung anzunehmen er immer gefühl ihn geld kosten krankenkassen zahlen er lust pflege medizinische behandlung unterschenkel er grosse nässende entzündete wunde beine strak ödematös nässten wichtig wunde versorgen er strak unternährt er immun geschwächt ganz schlimm enden beine ziel mal wunde ganze bein betrachten er weigerte strak wehrte pflege nachmittages gerade mehr tun dachte versuche ihn überreden beine mal anschauen patient sahs esstisch allein trank gerade milch ging ihn sprach ihn wenig versuchte möglichst deeskalierend gespräch führen dementen patienten wichtig validation anzuwenden heisst spreche augenhöhe ihm respektvoll allerwichtigste wenig welt einzutauchen ihn realität zurückzuziehen ihm welt arbeiten gelang sein bein verbinden begutachten machte gerade fussbad füsse waschen leider er lust lange stuhl sitzen schnell konnte immer hygiene richtlinien halten bein verbinden'], None, None, None, None, None, None, None, None, None, None, None, None, None, None, None, None, None, None, None, None, None, None, None, None, None, None, None, None, None, None, None, None, None, None, None, None, None, None, None, None, None, None, None, None, None, None, None, None, None, None, None, None, None, None, None, None, None, None, None, None, None, None, None, None, None, None, None, None, None, None, None, None, None, None, None, None, None, None, None, None, None, None, None, None, None, None, None, None, None, None, None, None, None, None, None, None, None, None, None, None, None, None, None, None, None, None, None, None, None, None, None, None, None, None, None, None, None, None, None, None, None, None, None, None, None, None, None, None, None, None, None, None, None, None, None, None, None, None, None, None, None, None, None, None, None, None, None, None, None, None, None, None, None, None, None, None, None, None, None, None, None, None, None, None, None, None, None, None, None, None, None, None, None, None, None, None, None, None, None, None, None, None, None, None, None, None, None, None, None, None, None, None, None, None, None, None, None, None, None, None, None, None, None, None, None, None, None, None, None, None, None, None, None, None, None, None, None, None, None, None, None, None, None, None, None, None, None, None, None, None, None, None, None, None, None, None, None, None, None, None, None, None, None, None, None, None, None, None, None, None, None, None, None, None, None, None, None, None, None, None, None, None, None, None, None, None, None, None, None, None, None, None, None, None, None, None, None, None, None, None, None, None, None, None, None, None, None, None, None, None, None, None, None, None, None, None, None, None, None, None, None, None, None, None, None, None, None, None, None, None, None, None, None, None, None, None, None, None, None, None, None, None, None, None, None, None, None, None, None, None, None, None, None, None, None, None, None, None, None, None, None, None, None, None, None, None, None, None, None, None, None, None, None, None, None, None, None, None, None, None, None, None, None, None, None, None, None, None, None, None, None, None, None, None, None, None, None, None, None, None, None, None, None, None, None, None, None, None, None, None, None, None, None, None, None, None, None, None, None, None, None, None, None, None, None, None, None, None, None, None, None, None, None, None, None, None, None, None, None, None, None, None, None, None, None, None, None, None, None, None, None, None, None, None, None, None, None, None, None, None, None, None, None, None, None, None, None, None, None, None, None, None, None, None, None, None, None, None, None, None, None, None, None, None, None, None, None, None, None, None, None, None, None, None, None, None, None, None, None, None, None, None, None, None, None, None, None, None, None, None, None, None, None, None, None, None, None, None, None, None, None, None, None, None, None, None, None, None, None, None, None, None, None, None, None, None, None, None, None, None, None, None, None, None, None, None, None, None, None, None, None, None, None, None, None, None, None, None, None, None, None, None, None, None, None, None, None, None, None, None, None, None, None, None, None, None, None, None, None, None, None, None, None, None, None, None, None, None, None, None, None, None, None, None, None, None, None, None, None, None, None, None, None, None, None, None, None, None, None, None, None, None, None, None, None, None, None, None, None, None, None, None, None, None, None, None, None, None, None, None, None, None, None, None, None, None, None, None, None, None, None, None, None, None, None, None, None, None, None, None, None, None, None, None, None, None, None, None, None, None, None, None, None, None, None, None, None, None, None, None, None, None, None, None, None, None, None, None, None, None, None, None, None, None, None, None, None, None, None, None, None, None, None, None, None, None, None, None, None, None, None, None, None, None, None, None, None, None, None, None, None, None, None, None, None, None, None, None, None, None, None, None, None, None, None, None, None, None, None, None, None, None, None, None, None, None, None, None, None, None, None, None, None, None, None, None, None, None, None, None, None, None, None, None, None, None, None, None, None, None, None, None, None, None, None, None, None, None, None, None, None, None, None, None, None, None, None, None, None, None, None, None, None, None, None, None, None, None, None, None, None, None, None, None, None, None, None, None, None, None, None, None, None, None, None, None, None, None, None, None, None, None, None, None, None, None, None, None, None, None, None, None, None, None, None, None, None, None, None, None, None, None, None, None, None, None, None, None, None, None, None, None, None, None, None, None, None, None, None, None, None, None, None, None, None, None, None, None, None, None, None, None, None, None, None, None, None, None, None, None, None, None, None, None, None, None, None, None, None, None, None, None, None, None, None, None, None, None, None, None, None, None, None, None, None, None, None, None, None, None, None, None, None, None, None, None, None, None, None, None, None, None, None, None, None, None, None, None, None, None, None, None, None, None, None, None, None, None, None, None, None, None, None, None, None, None, None, None, None, None, None, None, None, None, None, None, None, None, None, None, None, None, None, None, None, None, None, None, None, None, None, None, None, None, None, None, None, None, None, None, None, None, None, None, None, None, None, None, None, None, None, None, None, None, None, None, None, None, None, None, None, None, None, None, None, None, None, None, None, None, None, None, None, None, None, None, None, None, None, None, None, None, None, None, None, None, None, None, None, None, None, None, None, None, None, None, None, None, None, None, None, None, None, None, None, None, None, None, None, None, None, None, None, None, None, None, None, None, None, None, None, None, None, None, None, None, None, None, None, None, None, None, None, None, None, None, None, None, None, None, None, None, None, None, None, None, None, None, None, None, None, None, None, None, None, None, None, None, None, None, None, None, None, None, None, None, None, None, None, None, None, None, None, None, None, None, None, None, None, None, None, None, None, None, None, None, None, None, None, None, None, None, None, None, None, None, None, None, None, None, None, None, None, None, None, None, None, None, None, None, None, None, None, None, None, None, None, None, None, None, None, None, None, None, None, None, None, None, None, None, None, None, None, None, None, None, None, None, None, None, None, None, None, None, None, None, None, None, None, None, None, None, None, None, None, None, None, None, None, None, None, None, None, None, None, None, None, None, None, None, None, None, None, None, None, None, None, None, None, None, None, None, None, None, None, None, None, None, None, None, None, None, None, None, None, None, None, None, None, None, None, None, None, None, None, None, None, None, None, None, None, None, None, None, None, None, None, None, None, None, None, None, None, None, None, None, None, None, None, None, None, None, None, None, None, None, None, None, None, None, None, None, None, None, None, None, None, None, None, None, None, None, None, None, None, None, None, None, None, None, None, None, None, None, None, None, None, None, None, None, None, None, None, None, None, None, None, None, None, None, None, None, None, None, None, None, None, None, None, None, None, None, None, None, None, None, None, None, None, None, None, None, None, None, None, None, None, None, None, None, None, None, None, None, None, None, None, None, None, None, None, None, None, None, None, None, None, None, None, None, None, None, None, None, None, None, None, None, None, None, None, None, None, None, None, None, None, None, None, None, None, None, None, None, None, None, None, None, None, None, None, None, None, None, None, None, None, None, None, None, None, None, None, None, None, None, None, None, None, None, None, None, None, None, None, None, None, None, None, None, None, None, None, None, None, None, None, None, None, None, None, None, None, None, None, None, None, None, None, None, None, None, None, None, None, None, None, None, None, None, None, None, None, None, None, None, None, None, None, None, None, None, None, None, None, None, None, None, None, None, None, None, None, None, None, None, None, None, None, None, None, None, None, None, None, None, None, None, None, None, None, None, None, None, None, None, None, None, None, None, None, None, None, None, None, None, None, None, None, None, None, None, None, None, None, None, None, None, None, None, None, None, None, None, None, None, None, None, None, None, None, None, None, None, None, None, None, None, None, None, None, None, None, None, None, None, None, None, None, None, None, None, None, None, None, None, None, None, None, None, None, None, None, None, None, None, None, None, None, None, None, None, None, None, None, None, None, None, None, None, None, None, None, None, None, None, None, None, None, None, None, None, None, None, None, None, None, None, None, None, None, None, None, None, None, None, None, None, None, None, None, None, None, None, None, None, None, None, None, None, None, None, None, None, None, None, None, None, None, None, None, None, None, None, None, None, None, None, None, None, None, None, None, None, None, None, None, None, None, None, None, None, None, None, None, None, None, None, None, None, None, None, None, None, None, None, None, None, None, None, None, None, None, None, None, None, None, None, None, None, None, None, None, None, None, None, None, None, None, None, None, None, None, None, None, None, None, None, None, None, None, None, None, None, None, None, None, None, None, None, None, None, None, None, None, None, None, None, None, None, None, None, None, None, None, None, None, None, None, None, None, None, None, None, None, None, None, None, None, None, None, None, None, None, None, None, None, None, None, None, None, None, None, None, None, None, None, None, None, None, None, None, None, None, None, None, None, None, None, None, None, None, None, None, None, None, None, None, None, None, None, None, None, None, None, None, None, None, None, None, None, None, None, None, None, None, None, None, None, None, None, None, None, None, None, None, None, None, None, None, None, None, None, None, None, None, None, None, None, None, None, None, None, None, None, None, None, None, None, None, None, None, None, None, None, None, None, None, None, None, None, None, None, None, None, None, None, None, None, None, None, None, None, None, None, None, None, None, None, None, None, None, None, None, None, None, None, None, None, None, None, None, None, None, None, None, None, None, None, None, None, None, None, None, None, None, None, None, None, None, None, None, None, None, None, None, None, None, None, None, None, None, None, None, None, None, None, None, None, None, None, None, None, None, None, None, None, None, None, None, None, None, None, None, None, None, None, None, None, None, None, None, None, None, None, None, None, None, None, None, None, None, None, None, None, None, ['mehrere tage lang patienten fortgeschrittenen betreut eintrittsgrund er schwerwiegende aspiration daraus resultierender pneumonie erleiden krankheit fortgeschritten angehörigen mehr rechneten er allgemeinzustandsverbesserung er kam station pflegte ihn lange kurz austritt er erzählte zuhause umfeld vergangenheit pflege aufwändig daher zeit nahm zeit betreuung pflege gemischt beginn interessiert er umfassende diagnoseliste dazugehörigen pflegeinterventionen berufsbildnerin ihn gesprochen sie zusammenhang erklärt pflege aufwändig wünscht abstand gleichzeitig gab struktur ihn oft betreut seit beginn gut verstanden freute er positives feedback gegeben betreuung pflege lief gut kannte ihn tag tag besser konnte gewohnheiten miteinbeziehen führte er oft klingeln freitagen austritt erfahren austritt optimal gelaufen bedrückt team fallbesprechung thema angesprochen konnten vorschläge änderungen bezug nächsten austritt thematisieren menschen unterschiedlich er ging beginn locker diagnose austritt situation zugespitzt er wurde wütend pflege ihm aufwändig froh zeit verfügung kenntnisse konnte bezug pathophysiologie erweitern er aspiration folge pneumonie er links häufig aufgrund anatomischen strukturen bronchien mehr hinterfragen warum wieso geschehen verknüpfung pflegeinterventionen leichter'], None, None, None, None, None, None, None, None, None, None, None, None, None, None, None, None, None, None, None, None, None, None, None, None, None, None, None, None, None, None, None, None, None, None, None, None, None, None, None, None, None, None, None, None, None, None, None, None, None, None, None, None, None, None, None, None, None, None, None, None, None, None, None, None, None, None, None, None, None, None, None, None, None, None, None, None, None, None, None, None, None, None, None, None, None, None, None, None, None, None, None, None, None, None, None, None, None, None, None, None, None, None, None, None, None, None, None, None, None, None, None, None, None, None, None, None, None, None, None, None, None, None, None, None, None, None, None, None, None, None, None, None, None, None, None, None, None, None, None, None, None, None, None, None, None, None, None, None, None, None, None, None, None, None, None, None, None, None, None, None, None, None, None, None, None, None, None, None, None, None, None, None, None, None, None, None, None, None, None, None, None, None, None, None, None, None, None, None, None, None, None, None, None, None, None, None, None, None, None, None, None, None, None, None, None, None, None, None, None, None, None, None, None, None, None, None, None, None, None, None, None, None, None, None, None, None, None, None, None, None, None, None, None, None, None, None, None, None, None, None, None, None, None, None, None, None, None, None, None, None, None, None, None, None, None, None, None, None, None, None, None, None, None, None, None, None, None, None, None, None, None, None, None, None, None, None, None, None, None, None, None, None, None, None, None, None, None, None, None, None, None, None, None, None, None, None, None, None, None, None, None, None, None, None, None, None, None, None, None, None, None, None, None, None, None, None, None, None, None, None, None, None, None, None, None, None, None, None, None, None, None, None, None, None, None, None, None, None, None, None, None, None, None, None, None, None, None, None, None, None, None, None, None, None, None, None, None, None, None, None, None, None, None, None, None, None, None, None, None, None, None, None, None, None, None, None, None, None, None, None, None, None, None, None, None, None, None, None, None, None, None, None, None, None, None, None, None, None, None, None, None, None, None, None, None, None, None, None, None, None, None, None, None, None, None, None, None, None, None, None, None, None, None, None, None, None, None, None, None, None, None, None, None, None, None, None, None, None, None, None, None, None, None, None, None, None, None, None, None, None, None, None, None, None, None, None, None, None, None, None, None, None, None, None, None, None, None, None, None, None, None, None, None, None, None, None, None, None, None, None, None, None, None, None, None, None, None, None, None, None, None, None, None, None, None, None, None, None, None, None, None, None, None, None, None, None, None, None, None, None, None, None, None, None, None, None, None, None, None, None, None, None, None, None, None, None, None, None, None, None, None, None, None, None, None, None, None, None, None, None, None, None, None, None, None, None, None, None, None, None, None, None, None, None, None, None, None, None, None, None, None, None, None, None, None, None, None, None, None, None, None, None, None, None, None, None, None, None, None, None, None, None, None, None, None, None, None, None, None, None, None, None, None, None, None, None, None, None, None, None, None, None, None, None, None, None, None, None, None, None, None, None, None, None, None, None, None, None, None, None, None, None, None, None, None, None, None, None, None, None, None, None, None, None, None, None, None, None, None, None, None, None, None, None, None, None, None, None, None, None, None, None, None, None, None, None, None, None, None, None, None, None, None, None, None, None, None, None, None, None, None, None, None, None, None, None, None, None, None, None, None, None, None, None, None, None, None, None, None, None, None, None, None, None, None, None, None, None, None, None, None, None, None, None, None, None, None, None, None, None, None, None, None, None, None, None, None, None, None, None, None, None, None, None, None, None, None, None, None, None, None, None, None, None, None, None, None, None, None, None, None, None, None, None, None, None, None, None, None, None, None, None, None, None, None, None, None, None, None, None, None, None, None, None, None, None, None, None, None, None, None, None, None, None, None, None, None, None, None, None, None, None, None, None, None, None, None, None, None, None, None, None, None, None, None, None, None, None, None, None, None, None, None, None, None, None, None, None, None, None, None, None, None, None, None, None, None, None, None, None, None, None, None, None, None, None, None, None, None, None, None, None, None, None, None, None, None, None, None, None, None, None, None, None, None, None, None, None, None, None, None, None, None, None, None, None, None, None, None, None, None, None, None, None, None, None, None, None, None, None, None, None, None, None, None, None, None, None, None, None, None, None, None, None, None, None, None, None, None, None, None, None, None, None, None, None, None, None, None, None, None, None, None, None, None, None, None, None, None, None, None, None, None, None, None, None, None, None, None, None, None, None, None, None, None, None, None, None, None, None, None, None, None, None, None, None, None, None, None, None, None, None, None, None, None, None, None, None, None, None, None, None, None, None, None, None, None, None, None, None, None, None, None, None, None, None, None, None, None, None, None, None, None, None, None, None, None, None, None, None, None, None, None, None, None, None, None, None, None, None, None, None, None, None, None, None, None, None, None, None, None, None, None, None, None, None, None, None, None, None, None, None, None, None, None, None, None, None, None, None, None, None, None, None, None, None, None, None, None, None, None, None, None, None, None, None, None, None, None, None, None, None, None, None, None, None, None, None, None, None, None, None, None, None, None, None, None, None, None, None, None, None, None, None, None, None, None, None, None, None, None, None, None, None, None, None, None, None, None, None, None, None, None, None, None, None, None, None, None, None, None, None, None, None, None, None, None, None, None, None, None, None, None, None, None, None, None, None, None, None, None, None, None, None, None, None, None, None, None, None, None, None, None, None, None, None, None, None, None, None, None, None, None, None, None, None, None, None, None, None, None, None, None, None, None, None, None, None, None, None, None, None, None, None, None, None, None, None, None, None, None, None, None, None, None, None, None, None, None, None, None, None, None, None, None, None, None, None, None, None, None, None, None, None, None, None, None, None, None, None, None, None, None, None, None, None, None, None, None, None, None, None, None, None, None, None, None, None, None, None, None, None, None, None, None, None, None, None, None, None, None, None, None, None, None, None, None, None, None, None, None, None, None, None, None, None, None, None, None, None, None, None, None, None, None, None, None, None, None, None, None, None, None, None, None, None, None, None, None, None, None, None, None, None, None, None, None, None, None, None, None, None, None, None, None, None, None, None, None, None, None, None, None, None, None, None, None, None, None, None, None, None, None, None, None, None, None, None, None, None, None, None, None, None, None, None, None, None, None, None, None, None, None, None, None, None, None, None, None, None, None, None, None, None, None, None, None, None, None, None, None, None, None, None, None, None, None, None, None, None, None, None, None, None, None, None, None, None, None, None, None, None, None, None, None, None, None, None, None, None, None, None, None, None, None, None, None, None, None, None, None, None, None, None, None, None, None, None, None, None, None, None, None, None, None, None, None, None, None, None, None, None, None, None, None, None, None, None, None, None, None, None, None, None, None, None, None, None, None, None, None, None, None, None, None, None, None, None, None, None, None, None, None, None, None, None, None, None, None, None, None, None, None, None, None, None, None, None, None, None, None, None, None, None, None, None, None, None, None, None, None, None, None, None, None, None, None, None, None, None, None, None, None, None, None, None, None, None, None, None, None, None, None, None, None, None, None, None, None, None, None, None, None, None, None, None, None, None, None, None, None, None, None, None, None, None, None, None, None, None, None, None, None, None, None, None, None, None, None, None, None, None, None, None, None, None, None, None, None, None, None, None, None, None, None, None, None, None, None, None, None, None, None, None, None, None, None, None, None, None, None, None, None, None, None, None, None, None, None, None, None, None, None, None, None, None, None, None, None, None, None, None, None, None, None, None, None, None, None, None, None, None, None, None, None, None, None, None, None, None, None, None, None, None, None, None, None, None, None, None, None, None, None, None, None, None, None, None, None, None, None, None, None, None, None, None, None, None, None, None, None, None, None, None, None, None, None, None, None, None, None, None, None, None, None, None, None, None, None, None, None, None, None, None, None, None, None, None, None, None, None, None, None, None, None, None, None, None, None, None, None, None, None, None, None, None, None, None, None, None, None, None, None, None, None, None, None, None, None, None, None, None, None, None, None, None, None, None, None, None, None, None, None, None, None, None, None, None, None, None, None, None, None, None, None, None, None, None, None, None, None, None, None, None, None, None, None, None, None, None, None, None, None, None, None, None, None, None, None, None, None, None, None, None, None, None, None, None, None, None, None, None, None, None, None, None, None, None, None, None, None, None, None, None, None, None, None, None, None, None, None, None, None, None, None, None, None, None, None, None, None, None, None, None, None, None, None, None, None, None, None, None, None, None, None, None, None, None, None, None, None, None, None, None, None, None, None, None, None, None, None, None, None, None, None, None, None, None, None, None, None, None, None, None, None, None, None, None, None, None, None, None, None, None, None, None, None, None, None, None, None, None, None, None, None, None, None, None, None, None, None, None, None, None, None, None, None, None, None, None, None, None, None, None, None, None, None, None, None, None, None, None, None, None, None, None, None, None, None, None, None, None, None, None, None, None, None, None, None, None, None, None, None, None, None, None, None, None, None, None, None, None, None, None, None, None, None, None, None, None, None, None, None, None, None, None, None, None, None, None, None, None, None, None, None, None, None, None, None, None, None, None, None, None, None, None, None, None, None, None, None, None, None, None, None, None, None, None, None, None, None, None, None, None, None, None, None, None, None, None, None, None, None, None, None, None, None, None, None, None, None, None, None, None, None, None, None, None, None, None, None, None, None, None, None, None, None, None, None, None, None, None, None, None, None, None, None, None, None, None, None, None, None, None, None, None, None, None, None, None, None, None, None, None, None, None, None, None, None, None, None, None, None, None, None, None, None, None, None, None, None, None, None, None, None, None, None, None, None, None, None, None, None, None, None, None, None, None, None, None, None, None, None, None, None, None, None, None, None, None, None, None, None, None, None, None, None, None, None, None, None, None, None, None, None, None, None, None, None, None, None, None, None, None, None, None, None, None, None, None, None, None, None, None, None, None, None, None, None, None, None, None, None, None, None, None, None, None, None, None, None, None, None, None, None, None, None, None, None, None, None, None, None, None, None, None, None, None, None, None, None, None, None, None, None, None, None, None, None, None, None, None, None, None, None, None, None, None, None, None, None, None, None, None, None, None, None, None, None, None, None, None, None, None, None, None, None, None, None, None, None, None, None, None, None, None, None, None, None, None, None, None, None, None, None, None, None, None, None, None, None, None, None, None, None, None, None, None, None, None, None, None, None, None, None, None, None, None, None, None, None, None, None, None, None, None, None, None, None, None, None, None, None, None, None, None, None, None, None, None, None, None, None, None, None, None, None, None, None, None, None, None, None, None, None, None, None, None, None, None, None, None, None, None, None, None, None, None, None, None, None, None, None, None, None, None, None, None, None, None, None, None, None, None, None, None, None, None, None, None, None, None, None, None, None, None, None, None, None, None, None, None, None, None, None, None, None, None, None, None, None, None, None, None, None, None, ['situation geht patienten sterben patient alter mann zuhause gelebt aufgrund schlaganfalls spital eingewiesen wurde er leichte demenz patient mehrere wochen station allgemeinzustand wochen immer mehr verschlechtert weiterhin tag ressourcen gefördert er schwierigste mobilisation beim patienten patient rechten seite gelähmt somit rechten seite bewegen dennoch patienten mal täglich mobilisieren schwierig wegen gelähmten seit patient adipös starke schmerzen patient fast tag traurig sterben mehr leben familie akzeptierte lebenserweiterte massnahmen durchführen daher pflegenden schwierig angehörigen erklären patient leben möchte sterben angehörigen patienten verstanden sie los lassen dennoch patienten mehr verstanden patient gelitten schmerzen er selber gefühl besser immer schlechter beide ansichten verstanden patient leid getan angehörigen verständnis patienten gespräche durchgeführt angehörigen pflege ärzte geholfen patient leichte demenz sagten angehörigen er entscheiden er redet ernst meint er sterben patienten tag mobilisiert schwierig patient motivation aufzustehen einfach ganzen tag schlafen er schmerzen er kaum bewegen er angst stürzen mobilisation gut lief ärzte einbezogen wurden aufgrund sterben angehörigen gespräche geführt wurden mobilisation lief gut mobilisation schmerz medikamente verabreicht worden patient schmerzen gut lief patienten motivierten mehr informieren besten patienten motivieren ansonsten gut reagiert bedürfnisse patientin achten'], None, None, None, None, None, None, None, None, None, None, None, None, None, None, None, None, None, None, None, None, None, None, None, None, None, None, None, None, None, None, None, None, None, None, None, None, None, None, None, None, None, None, None, None, None, None, None, None, None, None, None, None, None, None, None, None, None, None, None, None, None, None, None, None, None, None, None, None, None, None, None, None, None, None, None, None, None, None, None, None, None, None, None, None, None, None, None, None, None, None, None, None, None, None, None, None, None, None, None, None, None, None, None, None, None, None, None, None, None, None, None, None, None, None, None, None, None, None, None, None, None, None, None, None, None, None, None, None, None, None, None, None, None, None, None, None, None, None, None, None, None, None, None, None, None, None, None, None, None, None, None, None, None, None, None, None, None, None, None, None, None, None, None, None, None, None, None, None, None, None, None, None, None, None, None, None, None, None, None, None, None, None, None, None, None, None, None, None, None, None, None, None, None, None, None, None, None, None, None, None, None, None, None, None, None, None, None, None, None, None, None, None, None, None, None, None, None, None, None, None, None, None, None, None, None, None, None, None, None, None, None, None, None, None, None, None, None, None, None, None, None, None, None, None, None, None, None, None, None, None, None, None, None, None, None, None, None, None, None, None, None, None, None, None, None, None, None, None, None, None, None, None, None, None, None, None, None, None, None, None, None, None, None, None, None, None, None, None, None, None, None, None, None, None, None, None, None, None, None, None, None, None, None, None, None, None, None, None, None, None, None, None, None, None, None, None, None, None, None, None, None, None, None, None, None, None, None, None, None, None, None, None, None, None, None, None, None, None, None, None, None, None, None, None, None, None, None, None, None, None, None, None, None, None, None, None, None, None, None, None, None, None, None, None, None, None, None, None, None, None, None, None, None, None, None, None, None, None, None, None, None, None, None, None, None, None, None, None, None, None, None, None, None, None, None, None, None, None, None, None, None, None, None, None, None, None, None, None, None, None, None, None, None, None, None, None, None, None, None, None, None, None, None, None, None, None, None, None, None, None, None, None, None, None, None, None, None, None, None, None, None, None, None, None, None, None, None, None, None, None, None, None, None, None, None, None, None, None, None, None, None, None, None, None, None, None, None, None, None, None, None, None, None, None, None, None, None, None, None, None, None, None, None, None, None, None, None, None, None, None, None, None, None, None, None, None, None, None, None, None, None, None, None, None, None, None, None, None, None, None, None, None, None, None, None, None, None, None, None, None, None, None, None, None, None, None, None, None, None, None, None, None, None, None, None, None, None, None, None, None, None, None, None, None, None, None, None, None, None, None, None, None, None, None, None, None, None, None, None, None, None, None, None, None, None, None, None, None, None, None, None, None, None, None, None, None, None, None, None, None, None, None, None, None, None, None, None, None, None, None, None, None, None, None, None, None, None, None, None, None, None, None, None, None, None, None, None, None, None, None, None, None, None, None, None, None, None, None, None, None, None, None, None, None, None, None, None, None, None, None, None, None, None, None, None, None, None, None, None, None, None, None, None, None, None, None, None, None, None, None, None, None, None, None, None, None, None, None, None, None, None, None, None, None, None, None, None, None, None, None, None, None, None, None, None, None, None, None, None, None, None, None, None, None, None, None, None, None, None, None, None, None, None, None, None, None, None, None, None, None, None, None, None, None, None, None, None, None, None, None, None, None, None, None, None, None, None, None, None, None, None, None, None, None, None, None, None, None, None, None, None, None, None, None, None, None, None, None, None, None, None, None, None, None, None, None, None, None, None, None, None, None, None, None, None, None, None, None, None, None, None, None, None, None, None, None, None, None, None, None, None, None, None, None, None, None, None, None, None, None, None, None, None, None, None, None, None, None, None, None, None, None, None, None, None, None, None, None, None, None, None, None, None, None, None, None, None, None, None, None, None, None, None, None, None, None, None, None, None, None, None, None, None, None, None, None, None, None, None, None, None, None, None, None, None, None, None, None, None, None, None, None, None, None, None, None, None, None, None, None, None, None, None, None, None, None, None, None, None, None, None, None, None, None, None, None, None, None, None, None, None, None, None, None, None, None, None, None, None, None, None, None, None, None, None, None, None, None, None, None, None, None, None, None, None, None, None, None, None, None, None, None, None, None, None, None, None, None, None, None, None, None, None, None, None, None, None, None, None, None, None, None, None, None, None, None, None, None, None, None, None, None, None, None, None, None, None, None, None, None, None, None, None, None, None, None, None, None, None, None, None, None, None, None, None, None, None, None, None, None, None, None, None, None, None, None, None, None, None, ['psychiatrie gearbeitet damals jährige ersten mal schwer chronifizierten suchpataientn tun gut ersten patienten erinnern zuständig herr s er seit vielen jahren heroin abhängig methadon programm zusätzlich er laufe zeit alkoholproblem entwickelt er kleine tochter ehefrau ersten mal ihm gesprochen er nieder geschlagen er sagte er wolle geben er wider heroin aufhören könne tochter liebe nahm ernst meinung entzug erfolg er wenigen tagen ersten rückfall überrast wusste wieso dachte er sei motiviert jedoch dachte passieren versucht darüber sprechen genau auslöser gewesene sei er wider konsumiert sagte er alten dealer stadt getroffen widerstehen konnte zusammen strategie erarbeitet zukunft umgehen ungefähr woche später kam nächsten rückfall wider gefrag passieren konnte er stark beteuerte wichtig sei tochter sassen zusammen besprochen passiert er erklärte letzten woche vorherigen rückfall schlecht unsicher gefühlt schwachen moment kam besprochen er zukunft mal kommt gespräch angefangen verstehen sucht wirklich bedeuten stress auslöser coping zugleich rettung untergang sucht mangelnder willenskraft zutun krankheit schwere fällen leider unheilbare krankheit patient mal betreut verschiedenen aufenthalten patient manchmal grenzen gebracht schetzte ihn immer zunächst frustriert gebiet erfahrung konnte verstehen krankheitsbild funktionierte wenig gesehenerlebt nachhinein betrachtet hätte gerne mehr verständnis gehabt jedoch konnte moment schwierige situation froh erfahrung konnte konnte neues lernen umgang psychisch erkrankten menschen erfahrung konnte besser zukünftigen patienten umgehen besseres verständnis sie konnte erfahrung lernen fehlende motivation fehlende willenskraft machte einfacher patienten arbeiten gutes team seit vieles gezeigt erklärt schon erwähnt konnte verständnisvoller geduldiger umgang anspruchsvollen patientensituationen beruf alltag heute immer vereinfacht gelernt personen schwierige situation meistern ihre erkrankung denke fähigkeit lebensbereichen anwenden arbeitsleben'], None, None, None, None, None, None, None, None, None, None, None, None, None, None, None, None, None, None, None, None, None, None, None, None, None, None, None, None, None, None, None, None, None, None, None, None, None, None, None, None, None, None, None, None, None, None, None, None, None, None, None, None, None, None, None, None, None, None, None, None, None, None, None, None, None, None, None, None, None, None, None, None, None, None, None, None, None, None, None, None, None, None, None, None, None, None, None, None, None, None, None, None, None, None, None, None, None, None, None, None, None, None, None, None, None, None, None, None, None, None, None, None, None, None, None, None, None, None, None, None, None, None, None, None, None, None, None, None, None, None, None, None, None, None, None, None, None, None, None, None, None, None, None, None, None, None, None, None, None, None, None, None, None, None, None, None, None, None, None, None, None, None, None, None, None, None, None, None, None, None, None, None, None, None, None, None, None, None, None, None, None, None, None, None, None, None, None, None, None, None, None, None, None, None, None, None, None, None, None, None, None, None, None, None, None, None, None, None, None, None, None, None, None, None, None, None, None, None, None, None, None, None, None, None, None, None, None, None, None, None, None, None, None, None, None, None, None, None, None, None, None, None, None, None, None, None, None, None, None, None, None, None, None, None, None, None, None, None, None, None, None, None, None, None, None, ['studium ausbildung fachfrau gesundheit begonnen letzen sommer abgeschlossen neu angefangen lief gut wirklich angestrengt fachgebiet spannend jedoch berufsbildnerin zwei abteilungen zuständig tiefprozentig gearbeitet heisst sie einzelnen lernenden wenig zeit jeweils mal lernbegleitung sie oftmals nachhause gehen ihr kind krank sie kleines kind zeitpunkt zuhause geht natürlich dementsprechend gelernt zeit zweiten lehrjahr station gewechselt ziemlich überfordert gynäkologischen abteilung ziemlich patienten sst geriatrische abteilung gekommen ziemlich patient pflege aufwenig neuen abteilung gab wenig einführung erwartete schon wissen korrekt körperpflege durchführe hygienischen standart damals ük gelernt nie angewendet geht eben verloren wissen ja gefühlt ersten moment ziemlich überfordert gefühlt verständnis entgegen gebracht ganze team frustrierte jeweils anfang grosse selbstzweifel gefühl ja gar könne brachte seiten rüber jedoch konnte profitieren zeit person pflegeperson bestärkt sicherlich gut gelaufen gelernt eigeninitiative ergreifen immer herzen nehmen darf mal feedback vielleicht konstruktiv sicherlich immer versucht feedbacks anzunehmen umzusetzen gut viele komplexe patientenfälle dabei lernen konnte obwohl beibringen gut gelaufen sicherlich nie gewehrt immer lassen lernerfolg einsetze weitere erkenntnisse siehe oben siehe oben', 'patienten betreut wegen alkoholabusus eingeliefert wurde er zeigte symptome leberzirrhose zurzeit er vielen schicksalsschlägen kämpfen zb scheidung frau er harn inkontinent einsicht sein verhalten meinung bier alkoholisches getränk galt er oft unzufrieden waschen er täglich mehrmals bettwäsche neu beziehen ihm dabei helfen toilette gelangen mehren tagen entstanden entzugssymptome ihn reizbar machten situation aktuellen privaten situation machte ihn ziemlich fertig dabei jemanden unterstützen tagesstruktur erhalten einfach ihn betreute versuchte lösungen finden patient geeignet danach kam patient delirum ihn herausbringen mussten begleitet wurde patient austritt betreutes wohnen zuerst schwer beziehung patienten aufzubauen rapporte klangen oftmals schwerwiegend versuche patienten vorurteile entgegen kommen wünschte hätte anfangs mehr zeit gehabt vollumfänglich ihn kümmern geschichte berührte versuchte empathie zeigen patienten situation verstehen sein privat leben kippte er wurde krank scheidung durchmachen manchmal sauer patienten ja beste patienten möchte gleich annehmen froh mehr erfahren leben sehen warum er verhalten froh gespräch führen konnte patienten geholfen ausgewöhnliche situation versucht situationen problematiken erkennen fall auseinandergesetzt beispiel er erhöhten sturzgefahr sein delir bedeutete er anweisungen sitzen bleiben sitzen geblieben aufgestanden dabei sturzverletzungen holte dabei situation erkannt bodenbett organisieren lassen sodass patient verletzten urinalkondom einsetzten lassen ihm schlaf nachts verbesserte pflegenden erleichterung täglich mal nachts bettwäsche wechseln mussten denke hätte anfang mehr einsetzten sollen mehr gespräche führen mehr bedürfnissen acht geben erst späht zeit genommen patienten zusammen tagesstruktur einzubringen sodass seien bedürfnisse erfüllt therapieplan verfolgen konnten konnte vertrauensvollen beziehung danach gute unterkunft finden patient zufrieden gelernt menschen meist grund sein verhalten psyche patienten vergisst entstehen vertrauensvolle basis komplizierteren patienten funktioniert mensch verurteilt leider häufig passiert beim rapportieren fällen hoffentlich mehrere jahren patienten unterstützen besserung deren leben finden versuche seither immer blick ganzheitlich legen schule hfso gut beugebracht beim rollenwechsel fachfrau gesundheit dipl pflegefachfrau'], None, None, None, None, None, None, None, None, None, None, None, None, None, None, None, None, None, None, None, None, None, None, None, None, None, None, None, None, None, None, None, None, None, None, None, None, None, None, None, None, None, None, None, None, None, None, None, None, None, None, None, None, None, None, None, None, None, None, None, None, None, None, None, None, None, None, None, None, None, None, None, None, None, None, None, None, None, None, None, None, None, None, None, None, None, None, None, None, None, None, None, None, None, None, None, None, None, None, None, None, None, None, None, None, None, None, None, None, None, None, None, None, None, None, None, None, None, None, None, None, None, None, None, None, None, None, None, None, None, None, None, None, None, None, None, None, None, None, None, None, None, None, None, None, None, None, None, None, None, None, None, None, None, None, None, None, None, None, None, None, None, None, None, None, None, None, None, None, None, None, None, None, None, None, None, None, None, None, None, None, None, None, None, None, None, None, None, None, None, None, None, None, None, None, None, None, None, None, None, None, None, None, None, None, None, None, None, None, None, None, None, None, None, None, None, None, None, None, None, None, None, None, None, None, None, None, None, None, None, None, None, None, None, None, None, None, None, None, None, None, None, None, None, None, None, None, None, None, None, None, None, None, None, None, None, None, None, None, None, None, None, None, None, None, None, None, None, None, None, None, None, None, None, None, None, None, None, None, None, None, None, None, None, None, None, None, None, None, None, None, None, None, None, None, None, None, None, None, None, None, None, None, None, None, None, None, None, None, None, None, None, None, None, None, None, None, None, None, None, None, None, None, None, None, None, None, None, None, None, None, None, None, None, None, None, None, None, None, None, None, None, None, None, None, None, None, None, None, None, None, None, None, None, None, None, None, None, None, None, None, None, None, None, None, None, None, None, None, None, None, None, None]\n",
      "Splitting candidate posts into sentences...\n",
      "100%|███████████████████████████████████████████| 6/6 [00:00<00:00, 4178.29it/s]\n",
      "Calculating sentence-based cooccurrences...\n",
      "7557it [00:01, 4348.52it/s]\n",
      "Unpacking cooccurrences into a more useful format...\n",
      "Exporting results to disk at /Users/su/Desktop/writing bias/output/weat/weat-cooccurrence-analysis_results-20240610212242.json.\n",
      "Done.\n"
     ]
    }
   ],
   "source": [
    "!python weat_de_cooc.py \\\n",
    "    --data \"/Users/su/Desktop/writing bias/data/reflect_write/weat/reflect_ml.txt\" \\\n",
    "    --output \"/Users/su/Desktop/writing bias/output/weat\" \\\n",
    "    --processing_cores 7 \\\n",
    "    --tests 1 2 3 4 5 6 7 8 9 10"
   ]
  },
  {
   "cell_type": "markdown",
   "metadata": {},
   "source": [
    "## GenBit COOC"
   ]
  },
  {
   "cell_type": "code",
   "execution_count": 6,
   "metadata": {},
   "outputs": [
    {
     "name": "stdout",
     "output_type": "stream",
     "text": [
      "CG\n",
      "Shapiro-Wilk Test: Statistics=0.908, p=0.058\n",
      "Sample looks Gaussian (fail to reject H0)\n",
      "D'Agostino's K^2 Test: Statistics=3.574, p=0.167\n",
      "Sample looks Gaussian (fail to reject H0)\n",
      "Kolmogorov-Smirnov Test: Statistics=0.158, p=0.641\n",
      "Sample looks Gaussian (fail to reject H0)\n",
      "TG1\n",
      "Shapiro-Wilk Test: Statistics=0.921, p=0.106\n",
      "Sample looks Gaussian (fail to reject H0)\n",
      "D'Agostino's K^2 Test: Statistics=2.539, p=0.281\n",
      "Sample looks Gaussian (fail to reject H0)\n",
      "Kolmogorov-Smirnov Test: Statistics=0.159, p=0.635\n",
      "Sample looks Gaussian (fail to reject H0)\n",
      "TG2\n",
      "Shapiro-Wilk Test: Statistics=0.962, p=0.610\n",
      "Sample looks Gaussian (fail to reject H0)\n",
      "D'Agostino's K^2 Test: Statistics=0.914, p=0.633\n",
      "Sample looks Gaussian (fail to reject H0)\n",
      "Kolmogorov-Smirnov Test: Statistics=0.132, p=0.851\n",
      "Sample looks Gaussian (fail to reject H0)\n"
     ]
    },
    {
     "name": "stderr",
     "output_type": "stream",
     "text": [
      "/Users/su/anaconda3/lib/python3.11/site-packages/scipy/stats/_stats_py.py:1806: UserWarning: kurtosistest only valid for n>=20 ... continuing anyway, n=19\n",
      "  warnings.warn(\"kurtosistest only valid for n>=20 ... continuing \"\n"
     ]
    }
   ],
   "source": [
    "for g in conv_reflect_bias.Gruppe.unique():\n",
    "    print(g)\n",
    "    check_gaussianity(conv_reflect_bias[conv_reflect_bias.Gruppe==g].bias_score)"
   ]
  },
  {
   "cell_type": "code",
   "execution_count": 7,
   "metadata": {},
   "outputs": [
    {
     "name": "stdout",
     "output_type": "stream",
     "text": [
      "Do not reject the null hypothesis - suggest the sample means are similar\n"
     ]
    },
    {
     "data": {
      "text/plain": [
       "(1.3787924913555323, 0.1760215733555435)"
      ]
     },
     "execution_count": 7,
     "metadata": {},
     "output_type": "execute_result"
    }
   ],
   "source": [
    "two_sample_ttest(conv_reflect_bias[conv_reflect_bias.Gruppe=='CG'].bias_score, conv_reflect_bias[conv_reflect_bias.Gruppe=='TG1'].bias_score)"
   ]
  },
  {
   "cell_type": "code",
   "execution_count": 8,
   "metadata": {},
   "outputs": [
    {
     "name": "stdout",
     "output_type": "stream",
     "text": [
      "Do not reject the null hypothesis - suggest the sample means are similar\n"
     ]
    },
    {
     "data": {
      "text/plain": [
       "(1.3787924913555323, 0.1760215733555435)"
      ]
     },
     "execution_count": 8,
     "metadata": {},
     "output_type": "execute_result"
    }
   ],
   "source": [
    "two_sample_ttest(conv_reflect_bias[conv_reflect_bias.Gruppe=='CG'].bias_score, conv_reflect_bias[conv_reflect_bias.Gruppe=='TG1'].bias_score)"
   ]
  },
  {
   "cell_type": "code",
   "execution_count": 9,
   "metadata": {},
   "outputs": [
    {
     "name": "stdout",
     "output_type": "stream",
     "text": [
      "Do not reject the null hypothesis - suggest the sample means are similar\n"
     ]
    },
    {
     "data": {
      "text/plain": [
       "(0.0, 1.0)"
      ]
     },
     "execution_count": 9,
     "metadata": {},
     "output_type": "execute_result"
    }
   ],
   "source": [
    "two_sample_ttest(conv_reflect_bias[conv_reflect_bias.Gruppe=='TG1'].bias_score, conv_reflect_bias[conv_reflect_bias.Gruppe=='TG1'].bias_score)"
   ]
  },
  {
   "cell_type": "code",
   "execution_count": 10,
   "metadata": {},
   "outputs": [
    {
     "data": {
      "text/plain": [
       "Text(0.5, 0, 'Group')"
      ]
     },
     "execution_count": 10,
     "metadata": {},
     "output_type": "execute_result"
    },
    {
     "data": {
      "image/png": "[encoded data removed]",
      "text/plain": [
       "<Figure size 640x480 with 1 Axes>"
      ]
     },
     "metadata": {},
     "output_type": "display_data"
    }
   ],
   "source": [
    "sns.boxplot(data=conv_reflect_bias, x=\"Gruppe\", y=\"bias_score\")\n",
    "# plt.legend(title='Content', loc='lower right')\n",
    "# set y-axis label\n",
    "# set title\n",
    "plt.title('Bias PMI Scores for Persuasive Student Essays', fontsize=15)\n",
    "plt.ylabel('Bias PMI score', fontsize=13)\n",
    "plt.xlabel('Group', fontsize=13)\n",
    "# labels = [item.get_text() for item in plt.gca().get_xticklabels()]\n",
    "# labels[0] = 'G1: Feedback'\n",
    "# labels[1] = 'G2: Rewritten'\n",
    "# plt.gca().set_xticklabels(labels)"
   ]
  }
 ],
 "metadata": {
  "kernelspec": {
   "display_name": "Python 3",
   "language": "python",
   "name": "python3"
  },
  "language_info": {
   "codemirror_mode": {
    "name": "ipython",
    "version": 3
   },
   "file_extension": ".py",
   "mimetype": "text/x-python",
   "name": "python",
   "nbconvert_exporter": "python",
   "pygments_lexer": "ipython3",
   "version": "3.1.-1"
  }
 },
 "nbformat": 4,
 "nbformat_minor": 2
}
